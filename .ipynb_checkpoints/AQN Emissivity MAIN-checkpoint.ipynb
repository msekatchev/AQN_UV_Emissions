{
 "cells": [
  {
   "cell_type": "code",
   "execution_count": 3,
   "id": "57b70430-ede2-44ca-80d6-f74b3baa52af",
   "metadata": {},
   "outputs": [],
   "source": [
    "import matplotlib.pyplot as plt\n",
    "import matplotlib\n",
    "\n",
    "%matplotlib inline\n",
    "import numpy as np\n",
    "import numpy.ma as ma\n",
    "\n",
    "import scipy as sci\n",
    "from scipy.stats import hypsecant\n",
    "from astropy import constants as cst\n",
    "from astropy import units as u\n",
    "from astropy.coordinates import spherical_to_cartesian as StC\n",
    "import time\n",
    "import healpy as hp\n",
    "\n",
    "\n",
    "from scipy.optimize import fsolve\n",
    "\n",
    "from aqn import *\n",
    "from constants import *\n"
   ]
  },
  {
   "cell_type": "markdown",
   "id": "d1778230-4eb2-4c91-aea2-c34a08cc6606",
   "metadata": {
    "tags": []
   },
   "source": [
    "### Natural $\\longleftrightarrow$ physical units conversion factors\n",
    "\n",
    "| Quantity | C.G.S | Natural ([erg]) |\n",
    "| --- | --- | ------ |\n",
    "| Length $\\ell$ | [cm] | [erg$^{-1}$]=${[cm]\\over \\hbar c}$ |\n",
    "| Time t | [s] | [erg$^{-1}$]=${[s]\\over \\hbar}$ |\n",
    "| Mass m | [g] | [erg]=[g]c$^2$ |\n",
    "| Velocity $\\vec v$ | [cm$~$s$^{-1}$] | [1]=[cm$~$s$^{-1}$]$1\\over c$ |\n",
    "| Momentum $\\vec p$ | [g$~$cm$~$s$^{-1}$] | [erg]=[g$~$cm$~$s$^{-1}$]c |\n",
    "| Cross-section $\\sigma$ | [cm$^2$] | [erg$^{-2}$]=${[cm]\\over (\\hbar c)^2}$ |\n",
    "| Decay rate $\\Gamma$| [s$^{-1}$] | [erg]=[s$^{-1}$]$\\hbar$ |\n",
    "| Frequency $\\nu$| [Hz] | [erg]=[Hz]$\\hbar$ |\n",
    "| Temperature T| [K] | [erg]=[K]$k_B$ |\n",
    "\n",
    "$1~{\\rm eV} = 1.6021766\\times 10^{-12}~{\\rm erg}$\n",
    "\n",
    "$1~{\\rm GeV} = e~{\\rm erg} = 0.0016021766~{\\rm erg}$\n",
    "\n",
    "$\\hbar = 1.0545718×10^{−27}~{\\rm erg~s} = 6.5821196×10^{−25}~{\\rm GeV~s}$\n",
    "\n",
    "$\\hbar c = 3.1615268×10^{−17}~{\\rm erg~cm} = 1.9732698×10^{−14}~{\\rm GeV~cm}$\n",
    "\n",
    "Some conversion factors:\n",
    "\n",
    "$\\ell_{\\rm CGS} = \\ell_{\\rm Nat,erg^{-1}} (\\hbar c)_{\\rm CGS}=\\ell_{\\rm Nat,GeV^{-1}} {(\\hbar c)_{\\rm CGS}\\over 0.0016021766} ~ \\implies 1~{\\rm GeV^{-1}}=1.9732698 \\times 10^{-14}~{\\rm cm}$\n",
    "\n",
    "$t_{\\rm CGS} = t_{\\rm Nat,erg^{-1}} \\hbar_{\\rm CGS}=t_{\\rm Nat,GeV^{-1}} {\\hbar_{\\rm CGS}\\over 0.0016021766} ~ \\implies 1~{\\rm GeV^{-1}}=6.5821196\\times10^{-25}~{\\rm s}$\n",
    "\n"
   ]
  },
  {
   "cell_type": "markdown",
   "id": "4a07582e-80ac-4da0-a06a-b21d97599e67",
   "metadata": {
    "tags": []
   },
   "source": [
    "# AQN Emissivity Model"
   ]
  },
  {
   "cell_type": "markdown",
   "id": "fb47cb4f-33d5-473d-bfcf-c1ba072a61d5",
   "metadata": {},
   "source": [
    "### Comparing numerical vs analytical temperature calculation"
   ]
  },
  {
   "cell_type": "code",
   "execution_count": 4,
   "id": "f447ef85-1a07-40a6-a136-8082e9aa1db6",
   "metadata": {},
   "outputs": [
    {
     "name": "stdout",
     "output_type": "stream",
     "text": [
      "A nugget of radius 1e-5 cm has a mass of 0.9634217471008703 g\n",
      "A nugget of radius 1.0124988024704139e-05 cm  cm has a mass of 1 g\n",
      "A nugget of radius 0.00010124988024704137 cm  cm has a mass of 1 kg\n",
      "selected mass: 1.0 kg\n",
      "radius: 0.00010124988024704137 cm\n"
     ]
    }
   ],
   "source": [
    "print(\"A nugget of radius 1e-5 cm has a mass of\", calc_m_AQN(1e-5*u.cm))\n",
    "print(\"A nugget of radius\", calc_R_AQN(1*u.g), \" cm has a mass of 1 g\", )\n",
    "print(\"A nugget of radius\", calc_R_AQN(1*u.kg), \" cm has a mass of 1 kg\", )\n",
    "\n",
    "print(\"selected mass:\", m_AQN_kg)\n",
    "print(\"radius:\", R_AQN)"
   ]
  },
  {
   "cell_type": "code",
   "execution_count": 5,
   "id": "d2a1919b-bb28-4e0a-8ac1-500e175aba5c",
   "metadata": {},
   "outputs": [
    {
     "name": "stdout",
     "output_type": "stream",
     "text": [
      "1.9032627689555338e-54 erg4\n",
      "15000.0 K 0.2845501127612687 eV\n",
      "65000.0 K 311.21088552723967 eV\n",
      "550000.0 K 10.212588822354915 eV\n",
      "1000000.0 K 3.9238839088101987 eV\n",
      "3.9238839088101987 eV\n"
     ]
    }
   ],
   "source": [
    "T_gas_cold     = 3e4 / 2 * u.K * K_to_eV       # unused\n",
    "T_gas_warm     = (3e4 + 1e5)/2 * u.K * K_to_eV\n",
    "T_gas_warm_hot = (1e5 + 1e6)/2 * u.K * K_to_eV\n",
    "T_gas_hot      = 1e6 * u.K * K_to_eV\n",
    "\n",
    "print(F_tot(1*u.eV) / inverg_to_cm * cst.hbar.cgs * inverg_to_cm**3)\n",
    "print(T_gas_cold / K_to_eV, T_AQN_analytical(n_bar, Dv, f, g))\n",
    "print(T_gas_warm / K_to_eV, T_AQN_ionized(n_bar, Dv, f, g, T_gas_warm, R_AQN))\n",
    "print(T_gas_warm_hot / K_to_eV, T_AQN_ionized(n_bar, Dv, f, g, T_gas_warm_hot, R_AQN))\n",
    "print(T_gas_hot / K_to_eV, T_AQN_ionized(n_bar, Dv, f, g, T_gas_hot, R_AQN))\n",
    "print(T_AQN_ionized(n_bar.to(1/u.m**3), Dv, f, g, T_gas_hot, R_AQN) )"
   ]
  },
  {
   "cell_type": "markdown",
   "id": "19cb6724-2b11-4656-8e8e-a4e6911f9bc5",
   "metadata": {},
   "source": [
    "### Calculating spectral spatial emissivity $\\epsilon$"
   ]
  },
  {
   "cell_type": "markdown",
   "id": "7eedcc90-7938-445a-96fe-9132b36bc966",
   "metadata": {},
   "source": [
    "#### Frequency range"
   ]
  },
  {
   "cell_type": "code",
   "execution_count": 6,
   "id": "418da1e2-0a78-4c5b-860a-da82056c232d",
   "metadata": {},
   "outputs": [
    {
     "name": "stdout",
     "output_type": "stream",
     "text": [
      "Galex data is 1350.0 - 1750.0 Angstrom\n",
      "     1.713100e+06 - 2.220685e+06 GHz\n"
     ]
    }
   ],
   "source": [
    "wavel_min = 1350 * u.Angstrom\n",
    "wavel_max = 1750 * u.Angstrom\n",
    "print(\"Galex data is\", wavel_min.value, \"-\", wavel_max)\n",
    "f_max = (cst.c.cgs / wavel_min.to(u.cm)).to(u.Hz)\n",
    "f_min = (cst.c.cgs / wavel_max.to(u.cm)).to(u.Hz)\n",
    "print(\"    \",\"{:e}\".format(f_min.to(u.GHz).value), \"-\", \"{:e}\".format(f_max.to(u.GHz)))"
   ]
  },
  {
   "cell_type": "markdown",
   "id": "75a3ea54-47ba-471c-89c9-7d96d7edd06a",
   "metadata": {
    "tags": []
   },
   "source": [
    "# Disk-Bulge-Halo Milky Way Galaxy Model Number 5 - E2K"
   ]
  },
  {
   "cell_type": "markdown",
   "id": "1f0c60c7-1d1a-41a0-aa8b-06a2af71edf6",
   "metadata": {
    "tags": []
   },
   "source": [
    "### Milky Way Galaxy Parameters"
   ]
  },
  {
   "cell_type": "markdown",
   "id": "ff345d9b-d232-4670-a2ec-0de1174f71dc",
   "metadata": {},
   "source": [
    "\n",
    "### Coded model parameters and number density functions"
   ]
  },
  {
   "cell_type": "code",
   "execution_count": 7,
   "id": "9043dcc2-f1f9-41ec-84db-f9b0a83a6fd6",
   "metadata": {},
   "outputs": [
    {
     "name": "stdout",
     "output_type": "stream",
     "text": [
      "Critical density at redshift z=0.5 is 1.532639674691421e-29 g / cm3\n",
      "0.1809470850312699 1 / cm3\n"
     ]
    }
   ],
   "source": [
    "distance    = 8 * u.kpc                                                                     # distance to MW galaxy centre  [kpc]\n",
    "galaxy_diameter = 30 * u.kpc\n",
    "galaxy_height = 0.3 * u.kpc\n",
    "\n",
    "# ----------- DM Halo Model -----------\n",
    "\n",
    "rho_0h = 0.0106 * u.solMass / u.pc**3\n",
    "r_h = 19.0 * u.kpc\n",
    "\n",
    "def rho_halo(r,z):\n",
    "    R = np.sqrt(r**2 + z**2)\n",
    "    return rho_0h.to(u.kg/u.m**3) / ((R/r_h)*(1+R/r_h)**2)\n",
    "\n",
    "def n_halo(r,z):\n",
    "    return rho_halo(r*u.kpc,z*u.kpc) / m_AQN_kg\n",
    "\n",
    "\n",
    "\n",
    "# -----------  E2K Gas Model -----------\n",
    "[a1_c, b1_c, c1_c, \n",
    " a2_c, b2_c, c2_c, \n",
    " a3_c, b3_c, c3_c, \n",
    " a4_c, b4_c, c4_c, \n",
    " a5_c, b5_c, c5_c, \n",
    " a6_c, b6_c, c6_c] = [30.04649796,  0.4079755,  3.77607598,  \n",
    "              1e3,3e-1,15,\n",
    "             2.6e4,5e-2,3,\n",
    "             0,0,0,\n",
    "             0,0,0,\n",
    "             0,0,0,]\n",
    "\n",
    "[a1_w, b1_w, c1_w, \n",
    " a2_w, b2_w, c2_w, \n",
    " a3_w, b3_w, c3_w, \n",
    " a4_w, b4_w, c4_w, \n",
    " a5_w, b5_w, c5_w, \n",
    " a6_w, b6_w, c6_w] = [1.1e0,1e-1,0.22,\n",
    "              1.7e1,12e-1,110,\n",
    "              0.575e4,8.2e-2,13.7,\n",
    "             0,0,0,\n",
    "             0,0,0,\n",
    "             0,0,0,]\n",
    "\n",
    "[a1_wh, b1_wh, c1_wh, \n",
    " a2_wh, b2_wh, c2_wh, \n",
    " a3_wh, b3_wh, c3_wh, \n",
    " a4_wh, b4_wh, c4_wh, \n",
    " a5_wh, b5_wh, c5_wh, \n",
    " a6_wh, b6_wh, c6_wh] = [6.1e1,4.4e-1,1.8,\n",
    "              9e2,9.2e-2,2.8,\n",
    "              1.5e4,7e-2,9,\n",
    "             0,0,0,\n",
    "             0,0,0,\n",
    "             0,0,0,]\n",
    "\n",
    "[a1_h, b1_h, c1_h, \n",
    " a2_h, b2_h, c2_h, \n",
    " a3_h, b3_h, c3_h, \n",
    " a4_h, b4_h, c4_h, \n",
    " a5_h, b5_h, c5_h, \n",
    " a6_h, b6_h, c6_h] = [2e2,4e-1,9.5,\n",
    "              1e4,10e-2,6,\n",
    "              2.6e4,3e-2,3.1,\n",
    "              0,0,0,\n",
    "              0,0,0,\n",
    "              0,0,0,]\n",
    "\n",
    "from astropy.cosmology import WMAP7   # WMAP 7-year cosmology\n",
    "rho_crit_z05_cgs = WMAP7.critical_density(0.5)  # critical density at z = 0.5  \n",
    "rho_crit_z05_si = rho_crit_z05_cgs.to(u.kg / u.m**3)\n",
    "r_vir_kpc = 233 * u.kpc\n",
    "\n",
    "def rho_gas_component(r_kpc,z_kpc,gas_component):\n",
    "    R_kpc = np.sqrt(r_kpc**2 + z_kpc**2)\n",
    "    x = (R_kpc/r_vir_kpc).value\n",
    "    if gas_component == \"cold\":\n",
    "        return  (a1_c / (1+(x/b1_c)**2)**c1_c + \\\n",
    "                 a2_c / (1+(x/b2_c)**2)**c2_c + \\\n",
    "                 a3_c / (1+(x/b3_c)**2)**c3_c) * rho_crit_z05_si\n",
    "    if gas_component == \"warm\":\n",
    "        return  (a1_w / (1+(x/b1_w)**2)**c1_w + \\\n",
    "                 a2_w / (1+(x/b2_w)**2)**c2_w + \\\n",
    "                 a3_w / (1+(x/b3_w)**2)**c3_w) * rho_crit_z05_si\n",
    "    if gas_component == \"warm-hot\":\n",
    "        return  (a1_wh / (1+(x/b1_wh)**2)**c1_wh + \\\n",
    "                 a2_wh / (1+(x/b2_wh)**2)**c2_wh + \\\n",
    "                 a3_wh / (1+(x/b3_wh)**2)**c3_wh) * rho_crit_z05_si \n",
    "    if gas_component == \"hot\":\n",
    "        return  (a1_h / (1+(x/b1_h)**2)**c1_h + \\\n",
    "                 a2_h / (1+(x/b2_h)**2)**c2_h + \\\n",
    "                 a3_h / (1+(x/b3_h)**2)**c3_h) * rho_crit_z05_si \n",
    "\n",
    "def n_gas_component(r,z, gas_component):\n",
    "    return rho_gas_component(r*u.kpc,z*u.kpc,gas_component) / cst.m_p.si\n",
    "\n",
    "\n",
    "def rho_gas(r_kpc,z_kpc):\n",
    "    return rho_gas_component(r_kpc,z_kpc,\"cold\") + rho_gas_component(r_kpc,z_kpc,\"warm\") + rho_gas_component(r_kpc,z_kpc,\"warm-hot\") + rho_gas_component(r_kpc,z_kpc,\"hot\")\n",
    "\n",
    "def n_gas(r,z):\n",
    "    return rho_gas(r*u.kpc,z*u.kpc) / cst.m_p.si\n",
    "\n",
    "\n",
    "print(\"Critical density at redshift z=0.5 is\", rho_crit_z05_cgs)\n",
    "    \n",
    "print(n_gas(8,0).cgs)"
   ]
  },
  {
   "cell_type": "code",
   "execution_count": 8,
   "id": "5f5365cb-1c14-4530-b941-232087e839da",
   "metadata": {},
   "outputs": [],
   "source": [
    "r_min_kpc = distance*np.sin(np.radians(17))"
   ]
  },
  {
   "cell_type": "code",
   "execution_count": null,
   "id": "42181eab-5dca-462e-a6e7-f79fa05554e1",
   "metadata": {},
   "outputs": [],
   "source": []
  },
  {
   "cell_type": "code",
   "execution_count": null,
   "id": "9e63d0b1-d9e0-4710-b3fe-9061b248f091",
   "metadata": {},
   "outputs": [],
   "source": []
  },
  {
   "cell_type": "markdown",
   "id": "6c64b0c3-4ed0-4a7c-8d08-c2151e5016b6",
   "metadata": {},
   "source": [
    "# Sightline Integrals\n"
   ]
  },
  {
   "cell_type": "code",
   "execution_count": 9,
   "id": "d4ce735c-b9f2-4c78-9b30-12a8d9da92e3",
   "metadata": {},
   "outputs": [],
   "source": [
    "# coord_conv([8, np.pi/2, np.pi])"
   ]
  },
  {
   "cell_type": "code",
   "execution_count": 10,
   "id": "8be3ae3c-93c5-4056-9503-2703828f7d1f",
   "metadata": {},
   "outputs": [
    {
     "name": "stdout",
     "output_type": "stream",
     "text": [
      "Tesselation parameter is 1 so skymap has 12 pixels.\n",
      "Solid angle of a single pixel is 1.047 steradians.\n",
      "Sanity check: 12 pixels x 1.047 sr = 12.566 sr, which is 4pi = 12.566\n",
      "Area in the sky at 5 kpc is dA = 26.18 kpc^2\n"
     ]
    }
   ],
   "source": [
    "D = distance.value\n",
    "\n",
    "def coord_conv(V): # check you get 0 when aiming at galactic centre\n",
    "    l, theta, phi = V[0], V[1], V[2]\n",
    "    #print(l,D)\n",
    "    x0 = l*np.sin(theta)*np.cos(phi) + D # *cos(azimuth)?         # potential sign error                                                                                                                       !!\n",
    "    y0 = l*np.sin(theta)*np.sin(phi)     # - D *sin(azimuth)?                                                                                                                            !!\n",
    "    z0 = l*np.cos(theta)\n",
    "    return [np.sqrt(x0**2 + y0**2), z0]\n",
    "# offcentre density profiles - analytic coordinate transformation\n",
    "\n",
    "# This is the resolution of the skymap.\n",
    "# Pick tesselation parameter, pos power of 2.\n",
    "NSIDE = 2**0\n",
    "\n",
    "# Number of pixels in the skymap\n",
    "NPIX = hp.nside2npix(NSIDE)   \n",
    "print(\"Tesselation parameter is\", NSIDE, \"so skymap has\", NPIX, \"pixels.\")\n",
    "\n",
    "# Solid angle of a single pixel:\n",
    "dOmega = hp.nside2pixarea(nside=NSIDE)\n",
    "print(\"Solid angle of a single pixel is\", round(dOmega,3), \"steradians.\")\n",
    "print(\"Sanity check:\", NPIX, \"pixels x\", round(dOmega,3), \"sr =\", round(hp.nside2pixarea(nside=NSIDE)*NPIX,3), \"sr, which is 4pi =\",round(np.pi*4,3))\n",
    "\n",
    "# dOmega = dA / D^2 so:\n",
    "dA = dOmega * 5**2\n",
    "print(\"Area in the sky at 5 kpc is dA =\", round(dA, 3), \"kpc^2\")"
   ]
  },
  {
   "cell_type": "markdown",
   "id": "85c71489-52c5-46bf-959a-aedd19627288",
   "metadata": {},
   "source": [
    "### Example - Flux in a length element of a solid angle"
   ]
  },
  {
   "cell_type": "code",
   "execution_count": 11,
   "id": "c0854051-e8fe-4e4a-b295-3812df38fd3d",
   "metadata": {},
   "outputs": [],
   "source": [
    "# nu = (1 * u.GHz).to(u.Hz)\n",
    "\n",
    "# # Now pick a pixel to work with.\n",
    "# theta, phi = hp.pix2ang(nside=NSIDE, ipix=[0])\n",
    "# print(np.degrees(theta), np.degrees(phi[0]))\n",
    "\n",
    "# # Now let's just take something 5 kpc away from earth. The corresponding r,z rel to the centre of MW are:\n",
    "# r,z = coord_conv([0.2, theta[0], phi[0]])\n",
    "# print(\"--\",\"r=\",r,\"z=\",z)\n",
    "\n",
    "# dr = 1 * u.cm\n",
    "\n",
    "# # Flux at that solid angle at that distance is:\n",
    "# ## dF = spectral_spatial_emissivity(n_halo(r,z), n_disk(r,z), Dv, f, g, nu) * dr * dOmega / (4*np.pi)\n",
    "# dF = spectral_spatial_emissivity(n_halo(r,z), n_gas(r,z), Dv, f, g, nu) * dr * dOmega / (4*np.pi)\n",
    "\n",
    "# print(\"Flux is\", dF)\n",
    "# print(n_halo(r,z), \"||||||\", n_AQN.to(1/u.m**3))\n",
    "# print(n_gas(r,z), \"||||||\", n_bar.to(1/u.m**3))\n",
    "# spectral_spatial_emissivity(n_AQN.to(1/u.m**3), n_bar, Dv, f, g, nu)\n",
    "\n",
    "# #distance_to_edge(theta[0],phi[0])"
   ]
  },
  {
   "cell_type": "code",
   "execution_count": 12,
   "id": "78ae739b-f5b2-44aa-b4ea-90b195ba6d18",
   "metadata": {},
   "outputs": [
    {
     "name": "stdout",
     "output_type": "stream",
     "text": [
      "0.5926286282378298 cm 0.00010124988024704137 cm\n"
     ]
    }
   ],
   "source": [
    "print(R_eff(R_AQN,1*u.eV, 1*u.eV), R_AQN)"
   ]
  },
  {
   "cell_type": "markdown",
   "id": "206db966-8492-4f87-91b6-cb74a9d76261",
   "metadata": {},
   "source": [
    "## Function to integrate"
   ]
  },
  {
   "cell_type": "code",
   "execution_count": 13,
   "id": "bc98f2ac-b45d-41d6-b85f-36f20599c5f0",
   "metadata": {},
   "outputs": [],
   "source": [
    "# nu = 2e15*u.Hz\n",
    "\n",
    "\n",
    "# def spectral_spatial_emissivity_cold(n_AQN, n_bar, Dv, f, g, nu):\n",
    "#     T_AQN = T_AQN_analytical(n_bar, Dv, f, g)\n",
    "#     #print(T_AQN)\n",
    "#     #T_AQN = 1 * u.eV ########################################################\n",
    "#     dFdw = spectral_surface_emissivity(nu, T_AQN)\n",
    "#     #print(\"Cold Gas, neutral temp: \", T_AQN, \"   Density: \", n_bar.to(1/u.cm**3))\n",
    "#     return dFdw * 4 * np.pi * R_AQN**2 * n_AQN.to(1/u.cm**3)\n",
    "\n",
    "# def spectral_spatial_emissivity_hot(n_AQN, n_bar, Dv, f, g, T_gas, R_AQN, nu):\n",
    "#     T_ionized = T_AQN_ionized(n_bar, Dv, f, g, T_gas, R_AQN)\n",
    "#     T_neutral = T_AQN_analytical(n_bar, Dv, f, g)\n",
    "#     T_AQN = max(T_neutral, T_ionized)\n",
    "#     #print(T_AQN)\n",
    "#     #T_AQN = 1 * u.eV ########################################################\n",
    "#     dFdw = spectral_surface_emissivity(nu, T_AQN)\n",
    "#     #print(\"Gas Temp: \", T_gas/K_to_eV,  \"     Density: \", n_bar.to(1/u.cm**3), \"    Ionized temp: \",T_ionized, \"     Neutral temp: \", T_neutral, \"    Selected temp: \", T_AQN)\n",
    "#     #print(n_bar.to(1/u.cm**3))\n",
    "#     return dFdw * 4 * np.pi * R_AQN**2 * n_AQN.to(1/u.cm**3) #                                                    !!!!!!!!!!!!!!!!!!\n",
    "\n",
    "\n",
    "\n",
    "# def func(l, theta, phi):\n",
    "#     r,z = coord_conv([l, theta, phi])\n",
    "#     #print(np.sqrt(r**2 + z**2), l)\n",
    "#     n_cold     = n_gas_component(r,z, \"cold\")\n",
    "#     T_cold     = T_gas_cold\n",
    "    \n",
    "#     n_warm     = n_gas_component(r,z, \"warm\")\n",
    "#     T_warm     = T_gas_warm\n",
    "    \n",
    "#     n_warm_hot = n_gas_component(r,z, \"warm-hot\")\n",
    "#     T_warm_hot = T_gas_warm_hot\n",
    "    \n",
    "#     n_hot      = n_gas_component(r,z, \"hot\")\n",
    "#     T_hot      = T_gas_hot\n",
    "    \n",
    "#     n_aqn = n_halo(r,z)\n",
    "\n",
    "#     epsilon = (spectral_spatial_emissivity_cold(n_aqn, n_cold, Dv, f, g, nu) +\n",
    "#                spectral_spatial_emissivity_hot(n_aqn, n_warm,     Dv, f, g, T_warm,     R_AQN, nu) +\n",
    "#                spectral_spatial_emissivity_hot(n_aqn, n_warm_hot, Dv, f, g, T_warm_hot, R_AQN, nu) +\n",
    "#                spectral_spatial_emissivity_hot(n_aqn, n_hot,      Dv, f, g, T_hot, R_AQN, nu))\n",
    "#     # spectral_spatial_emissivity_hot(n_aqn, n_cold,     Dv, f, g, T_cold,     R_AQN, nu) +\n",
    "#     # \n",
    "#     #print(\"-\",epsilon)\n",
    "    \n",
    "#     return epsilon.value\n",
    "\n",
    "\n",
    "# sci.integrate.quad(func,0,r_vir_kpc.value,(theta,phi))[0] / (4*np.pi) *  u.kpc * (u.erg / u.Hz / u.s / u.cm**3 / u.sr) * kpc_to_cm * dOmega\n",
    "\n",
    "# #print(spectral_spatial_emissivity(n_AQN, n_gas(1,1), Dv, f, g, nu), spectral_spatial_emissivity_cold(n_AQN, n_gas_component(1,1,\"cold\"), Dv, f, g, nu), spectral_spatial_emissivity_hot(n_AQN, n_bar, Dv, f, g, T_gas_warm, R_AQN, nu))\n",
    "\n",
    "# # u.kpc.cgs\n"
   ]
  },
  {
   "cell_type": "code",
   "execution_count": null,
   "id": "05bb05c7-da0b-4fb1-977d-b295c5c183b7",
   "metadata": {},
   "outputs": [],
   "source": []
  },
  {
   "cell_type": "markdown",
   "id": "9e876ef1-0879-4e52-922a-88bbbb7d598b",
   "metadata": {},
   "source": [
    "## Calculating flux from each solid angle for a particular frequency"
   ]
  },
  {
   "cell_type": "code",
   "execution_count": 14,
   "id": "f98dfae2-0673-4ea6-993e-0e875123f4a4",
   "metadata": {},
   "outputs": [],
   "source": [
    "\n",
    "\n",
    "# flux_array = np.zeros(NPIX)\n",
    "# dOmega = hp.nside2pixarea(nside=NSIDE)\n",
    "# for i in list(range(NPIX)):\n",
    "#     #if i==6:\n",
    "#     theta, phi = hp.pix2ang(nside=NSIDE, ipix=[i])\n",
    "#     l_max = (r_vir_kpc).value ## distance_to_edge(theta, phi)\n",
    "#     r,z = coord_conv([l_max, theta, phi])\n",
    "#     flux_array[i] = (sci.integrate.quad(func,0,l_max,(theta,phi))[0] / (4*np.pi) * u.kpc * (u.erg / u.Hz / u.s / u.cm**3 / u.sr) * kpc_to_cm ).value # dOmega * u.sr\n",
    "#     print(\"Pixel #\"+str(i))\n",
    "#     print(\" Theta:\", np.degrees(theta))\n",
    "#     print(\" Phi:  \", np.degrees(phi))    \n",
    "#     print(\" Distance to edge:\", l_max)\n",
    "#     print(\" r:    \", r)\n",
    "#     print(\" z:    \", z)\n",
    "#     print(\" Flux:\", flux_array[i]* (u.erg / u.Hz / u.s / u.cm**2 / u.sr))\n",
    "#     print(\"\\n\")\n",
    "\n",
    "# #sum(flux_array)\n",
    "# #flux_array_HIGH = flux_array"
   ]
  },
  {
   "cell_type": "markdown",
   "id": "1606c8f3-bb63-4c4e-9efb-09479e121b91",
   "metadata": {},
   "source": [
    "## Integrating over Galex FUV Band"
   ]
  },
  {
   "cell_type": "code",
   "execution_count": 15,
   "id": "58739d4d-4b79-4b0b-99b6-c29ace2e5a40",
   "metadata": {},
   "outputs": [
    {
     "name": "stdout",
     "output_type": "stream",
     "text": [
      "0.0001 kpc\n"
     ]
    },
    {
     "ename": "NameError",
     "evalue": "name 'z_array' is not defined",
     "output_type": "error",
     "traceback": [
      "\u001b[0;31m---------------------------------------------------------------------------\u001b[0m",
      "\u001b[0;31mNameError\u001b[0m                                 Traceback (most recent call last)",
      "Input \u001b[0;32mIn [15]\u001b[0m, in \u001b[0;36m<cell line: 140>\u001b[0;34m()\u001b[0m\n\u001b[1;32m    141\u001b[0m     dz \u001b[38;5;241m=\u001b[39m dz_array[i] \u001b[38;5;241m*\u001b[39m u\u001b[38;5;241m.\u001b[39mkpc\n\u001b[1;32m    142\u001b[0m     \u001b[38;5;28mprint\u001b[39m(dz)\n\u001b[0;32m--> 143\u001b[0m     epsilon[i] \u001b[38;5;241m=\u001b[39m \u001b[43msum_epsilon\u001b[49m\u001b[43m(\u001b[49m\u001b[38;5;241;43m0\u001b[39;49m\u001b[43m,\u001b[49m\u001b[43ml_max\u001b[49m\u001b[43m,\u001b[49m\u001b[38;5;241;43m0\u001b[39;49m\u001b[43m,\u001b[49m\u001b[38;5;241;43m1\u001b[39;49m\u001b[43m,\u001b[49m\u001b[38;5;241;43m2e15\u001b[39;49m\u001b[38;5;241;43m*\u001b[39;49m\u001b[43mu\u001b[49m\u001b[38;5;241;43m.\u001b[39;49m\u001b[43mHz\u001b[49m\u001b[43m)\u001b[49m\n\u001b[1;32m    145\u001b[0m plt\u001b[38;5;241m.\u001b[39mplot(dz_array, epsilon)\n\u001b[1;32m    146\u001b[0m plt\u001b[38;5;241m.\u001b[39mxscale(\u001b[38;5;124m\"\u001b[39m\u001b[38;5;124mlog\u001b[39m\u001b[38;5;124m\"\u001b[39m)\n",
      "Input \u001b[0;32mIn [15]\u001b[0m, in \u001b[0;36msum_epsilon\u001b[0;34m(l_min, l_max, theta, phi, nu)\u001b[0m\n\u001b[1;32m    102\u001b[0m \u001b[38;5;28;01mdef\u001b[39;00m \u001b[38;5;21msum_epsilon\u001b[39m(l_min,l_max,theta,phi,nu):\n\u001b[0;32m--> 103\u001b[0m     dfdnu \u001b[38;5;241m=\u001b[39m \u001b[38;5;28msum\u001b[39m(func(\u001b[43mz_array\u001b[49m, theta, phi, nu))\n\u001b[1;32m    104\u001b[0m     \u001b[38;5;28;01mreturn\u001b[39;00m dfdnu \u001b[38;5;241m/\u001b[39m (\u001b[38;5;241m4\u001b[39m\u001b[38;5;241m*\u001b[39mnp\u001b[38;5;241m.\u001b[39mpi) \u001b[38;5;241m*\u001b[39m (dz\u001b[38;5;241m.\u001b[39mcgs)\u001b[38;5;241m.\u001b[39mvalue \u001b[38;5;241m*\u001b[39m dOmega\n",
      "\u001b[0;31mNameError\u001b[0m: name 'z_array' is not defined"
     ]
    },
    {
     "data": {
      "text/plain": [
       "<Figure size 800x600 with 0 Axes>"
      ]
     },
     "metadata": {},
     "output_type": "display_data"
    }
   ],
   "source": [
    "\n",
    "# erg Hz^-1 s^-1 cm^-2\n",
    "# nu Hz\n",
    "# T eV\n",
    "def spectral_surface_emissivity(nu, T):\n",
    "    T = T * eV_to_erg\n",
    "    w = 2 * np.pi * nu * Hz_to_erg\n",
    "    unit_factor = (1 / cst.hbar.cgs) * (1/(cst.hbar.cgs * cst.c.cgs))**2 * (cst.hbar.cgs * 1/u.Hz * 1/u.s)\n",
    "    #                ^ 1/seconds           ^ 1/area                          ^ 1/frequency and energy\n",
    "    #print(np.array(w/T))\n",
    "    return unit_factor * 4/45 * T**3 * cst.alpha ** (5/2) * 1/np.pi * (T/(m_e_eV*eV_to_erg))**(1/4) * (1 + w/T) * np.exp(- w/T) * h(w/T)\n",
    "\n",
    "\n",
    "def spectral_spatial_emissivity_cold(n_AQN, n_bar, Dv, f, g, nu):\n",
    "    t_i = time.time()\n",
    "    T_AQN = T_AQN_analytical(n_bar, Dv, f, g)\n",
    "    # print(\"Time taken 0: \", time.time() - t_i)\n",
    "    #print(T_AQN)\n",
    "    #T_AQN = 1 * u.eV ########################################################\n",
    "    dFdw = spectral_surface_emissivity(nu, T_AQN)\n",
    "    return dFdw * 4 * np.pi * R_AQN**2 * n_AQN.to(1/u.cm**3)\n",
    "\n",
    "def spectral_spatial_emissivity_hot(n_AQN, n_bar, Dv, f, g, T_gas, R_AQN, nu):\n",
    "    t_i = time.time()\n",
    "    T_AQN = max(T_AQN_analytical(n_bar, Dv, f, g), T_AQN_ionized(n_bar, Dv, f, g, T_gas, R_AQN))\n",
    "    # print(\"Time taken: \", time.time() - t_i)\n",
    "    t_i = time.time()\n",
    "    dFdw = spectral_surface_emissivity(nu, T_AQN)\n",
    "    # print(\"Time taken 2: \", time.time() - t_i)\n",
    "    return dFdw * 4 * np.pi * R_AQN**2 * n_AQN.to(1/u.cm**3)\n",
    "\n",
    "\n",
    "\n",
    "\n",
    "\n",
    "def func(l, theta, phi, nu):\n",
    "    t_tot = time.time()\n",
    "    t_i = time.time()\n",
    "    r,z = coord_conv([l, theta, phi])\n",
    "    # print(\"1\",time.time() - t_i)\n",
    "    \n",
    "    t_i = time.time()\n",
    "    n_cold     = n_gas_component(r,z, \"cold\")\n",
    "    #T_cold     = T_gas_cold\n",
    "    # print(\"2\",time.time() - t_i)\n",
    "    \n",
    "    t_i = time.time()\n",
    "    n_warm     = n_gas_component(r,z, \"warm\") # avoid setting variables\n",
    "    T_warm     = T_gas_warm\n",
    "    # print(\"3\",time.time() - t_i)\n",
    "    \n",
    "    t_i = time.time()\n",
    "    n_warm_hot = n_gas_component(r,z, \"warm-hot\")\n",
    "    T_warm_hot = T_gas_warm_hot\n",
    "    # print(\"4\",time.time() - t_i)\n",
    "    \n",
    "    t_i = time.time()\n",
    "    n_hot      = n_gas_component(r,z, \"hot\")\n",
    "    T_hot      = T_gas_hot\n",
    "    # print(\"5\",time.time() - t_i)\n",
    "    \n",
    "    t_i = time.time()\n",
    "    n_aqn = n_halo(r,z)\n",
    "    # print(\"6\",time.time() - t_i)\n",
    "    \n",
    "    t_i = time.time()\n",
    "    epsilon = (spectral_spatial_emissivity_cold(n_aqn, n_cold, Dv, f, g, nu) +\n",
    "               spectral_spatial_emissivity_hot(n_aqn, n_warm,     Dv, f, g, T_warm,     R_AQN, nu) +\n",
    "               spectral_spatial_emissivity_hot(n_aqn, n_warm_hot, Dv, f, g, T_warm_hot, R_AQN, nu) +\n",
    "               spectral_spatial_emissivity_hot(n_aqn, n_hot,      Dv, f, g, T_hot, R_AQN, nu))\n",
    "    return epsilon.value\n",
    "\n",
    "def response_func(wavelength):\n",
    "    return 1 #wavelength/(wavel_max - wavel_min).value\n",
    "\n",
    "\n",
    "\n",
    "def h(x):\n",
    "    return_array = np.zeros(len(x))\n",
    "    return_array[np.where(x<1)] = (17 - 12*np.log(x[np.where(x<1)]/2))\n",
    "    return_array[np.where(x>=1)] = 17 + 12*np.log(2)\n",
    "    return return_array\n",
    "def spectral_spatial_emissivity_hot(n_AQN, n_bar, Dv, f, g, T_gas, R_AQN, nu):\n",
    "    T_neu_eV = T_AQN_analytical(n_bar, Dv, f, g)\n",
    "    T_ion_eV = T_AQN_ionized(n_bar, Dv, f, g, T_gas, R_AQN)\n",
    "    #print(T_neu_eV, T_ion_eV)\n",
    "    T_AQN = T_neu_eV.copy()                   # don't need this, use T_neu_eV\n",
    "    ion_greater_neu = np.where(T_ion_eV > T_neu_eV)\n",
    "    T_AQN[ion_greater_neu] = T_ion_eV[ion_greater_neu]\n",
    "    #print(T_AQN)\n",
    "    #T_AQN = max(T_AQN_analytical(n_bar, Dv, f, g), T_AQN_ionized(n_bar, Dv, f, g, T_gas, R_AQN))\n",
    "    \n",
    "    #T_AQN = \n",
    "    \n",
    "    dFdw = spectral_surface_emissivity(nu, T_AQN)\n",
    "    return dFdw * 4 * np.pi * R_AQN**2 * n_AQN.to(1/u.cm**3)\n",
    "\n",
    "\n",
    "# array of distance elements along each sightline\n",
    "dz = 1e-3 * u.kpc\n",
    "l_min, l_max = 0, (r_vir_kpc).value\n",
    "z_list = np.arange(l_min,l_max,dz.value)\n",
    "def sum_epsilon(l_min,l_max,theta,phi,nu):\n",
    "    dfdnu = sum(func(z_array, theta, phi, nu))\n",
    "    return dfdnu / (4*np.pi) * (dz.cgs).value * dOmega\n",
    "\n",
    "# 2D array - 1 for wavelength 1 for pixel (+ use theta, phi arrays) --> 1D array\n",
    "# work with log(func), will need fewer sampling points -- need to add correction factor (just analytic)\n",
    "\n",
    "def integrate_band(wavelength, theta, phi, l_max):\n",
    "    t_i = time.time()\n",
    "    # obtain frequency from wavelength\n",
    "    nu = (cst.c / (wavelength*u.Angstrom).to(u.m)).to(u.Hz) # calculate outside\n",
    "\n",
    "    # flux in erg / cm2 s sr Hz\n",
    "    dfdnu = sum_epsilon(0,l_max,theta,phi,nu)               \n",
    "    #dfdnu = (sci.integrate.romberg(func,0,l_max,(theta,phi,nu))[0] / (4*np.pi) * kpc_to_cm.value * dOmega)\n",
    "                                                                              #* u.kpc * (u.erg / u.Hz / u.s / u.cm**3 / u.sr)\n",
    "    #print(theta,phi,nu)\n",
    "    #dfdnu = (sci.integrate.romberg(func,0,l_max,(theta,phi,nu)) / (4*np.pi) * kpc_to_cm.value)\n",
    "    # flux in photon / cm2 s sr Angstrom\n",
    "    dfdlambda = (dfdnu * u.erg/u.s/u.Hz/u.cm**2/u.sr).to(u.photon / u.cm**2 / u.s / u.Angstrom / u.sr, u.spectral_density(wavelength * u.Angstrom)).value\n",
    "    # take conversion factors from a pre-calculated array\n",
    "    \n",
    "    # print(dfdlambda)\n",
    "    #t_f = time.time()\n",
    "    #print(\"time: \", t_f-t_i)\n",
    "    print(\"for wavelength \", wavelength,dfdlambda, time.time()-t_i)\n",
    "\n",
    "    return dfdlambda * response_func(wavelength)\n",
    "# sample ~10 wavelengths\n",
    "\n",
    "\n",
    "#sum_epsilon(0,l_max,0,0,10000000*u.Hz)\n",
    "# func(np.array([0.001,2,3,4,5,10000]), 0, 0, 10000000*u.Hz)\n",
    "\n",
    "plt.figure(figsize=(8, 6), dpi=100)\n",
    "\n",
    "dz_array = np.logspace(-4,-1,20)\n",
    "epsilon = dz_array.copy()\n",
    "for i in range(len(dz_array)):\n",
    "    dz = dz_array[i] * u.kpc\n",
    "    print(dz)\n",
    "    epsilon[i] = sum_epsilon(0,l_max,0,1,2e15*u.Hz)\n",
    "    \n",
    "plt.plot(dz_array, epsilon)\n",
    "plt.xscale(\"log\")\n",
    "plt.xlabel(\"dz [kpc]\",size=15)\n",
    "plt.savefig(\"picking_summation_dz.png\")\n",
    "plt.ylabel(\"dF/dnu [erg/cm$^2\\cdot$Hz$\\cdot$s]\",size=15)\n",
    "\n",
    "plt.show()\n",
    "\n",
    "dz = 1e-3 * u.kpc\n",
    "\n"
   ]
  },
  {
   "cell_type": "code",
   "execution_count": 16,
   "id": "b471aa5e-f729-42e0-b4ba-3651de0fc80d",
   "metadata": {},
   "outputs": [],
   "source": [
    "# theta, phi = hp.pix2ang(nside = NSIDE, ipix = list(range(NPIX)))\n",
    "# low_lat_filter = (np.degrees(theta) > 73) & (np.degrees(theta) < 113)\n",
    "# ((np.degrees(theta) > 73) & (np.degrees(theta) < 113))"
   ]
  },
  {
   "cell_type": "code",
   "execution_count": null,
   "id": "afe64dde-2f23-4e83-9277-58026b369a8c",
   "metadata": {},
   "outputs": [],
   "source": []
  },
  {
   "cell_type": "code",
   "execution_count": 17,
   "id": "33651403-30f4-4e3d-92c4-56cda808b538",
   "metadata": {},
   "outputs": [],
   "source": [
    "# NSIDE = 2**2\n",
    "# NPIX = hp.nside2npix(NSIDE)\n",
    "# wavelength_band_resolution = 30\n",
    "\n",
    "# # array of theta, phi, for each pixel\n",
    "# theta, phi = hp.pix2ang(nside = NSIDE, ipix = list(range(NPIX)))\n",
    "# low_lat_filter = (np.degrees(theta) > 73) & (np.degrees(theta) < 113)\n",
    "# #phi = phi[high_lat_filter]\n",
    "# #theta = theta[high_lat_filter]\n",
    "\n",
    "# # array for wavelengths in galex waveband\n",
    "# wavelength_band = np.arange(wavel_min.value, wavel_max.value, wavelength_band_resolution)\n",
    "# frequency_band = (cst.c / (wavelength_band*u.Angstrom).to(u.m)).to(u.Hz)\n",
    "\n",
    "# # array of distance elements along each sightline\n",
    "# dz = 1e-3 * u.kpc\n",
    "# l_min, l_max = 0, (r_vir_kpc).value\n",
    "# z_list = np.arange(l_min,l_max,dz.value)\n",
    "\n",
    "# # z_array * np.sin(theta)*np.cos(phi) + D\n",
    "\n",
    "# # def coord_conv(V): # check you get 0 when aiming at galactic centre\n",
    "# #     l, theta, phi = V[0], V[1], V[2]\n",
    "# #     #print(l,D)\n",
    "# #     x0 = l*np.sin(theta)*np.cos(phi) + D # *cos(azimuth)?         # potential sign error                                                                                                                       !!\n",
    "# #     y0 = l*np.sin(theta)*np.sin(phi)     # - D *sin(azimuth)?                                                                                                                            !!\n",
    "# #     z0 = l*np.cos(theta)\n",
    "# #     return [np.sqrt(x0**2 + y0**2), z0]\n",
    "# # offcentre density profiles - analytic coordinate transformation\n",
    "\n",
    "\n",
    "# # sum_epsilon(0,l_max,theta,phi,frequency_band) \n",
    "\n",
    "# #np.array([[theta],[phi],[z_array]])[0]\n",
    "\n",
    "# z_array = np.ones((len(theta),len(z_list))) * z_list\n",
    "# z_array[low_lat_filter] = 0\n",
    "# #test[(np.degrees(theta) > 73) & (np.degrees(theta) < 113)] = z_array\n",
    "# z_array[0] * np.sin(theta[0]) * np.cos(phi[0]) + D\n",
    "# #test * np.sin(np.ones((len(theta),len(z_array)) * theta))# * np.cos(phi) + D\n",
    "# #np.ones((len(theta),len(z_array))) * z_array * np.sin(theta)"
   ]
  },
  {
   "cell_type": "code",
   "execution_count": 18,
   "id": "6b337f19-e7f8-42ce-b2d2-ac35685abd82",
   "metadata": {},
   "outputs": [],
   "source": [
    "# z_array.transpose() * np.tile(np.sin(theta).transpose() * np.cos(phi).transpose(), (len(z_list),1)) + D"
   ]
  },
  {
   "cell_type": "code",
   "execution_count": null,
   "id": "1c8c7c83-3bce-424a-ad1d-805b3caa4582",
   "metadata": {},
   "outputs": [],
   "source": []
  },
  {
   "cell_type": "code",
   "execution_count": null,
   "id": "16ddf833-49bc-41c5-b51e-8b05b1097c0e",
   "metadata": {},
   "outputs": [],
   "source": []
  },
  {
   "cell_type": "code",
   "execution_count": null,
   "id": "8f96b3e1-d626-4fca-ab6d-efa99c8fdcdd",
   "metadata": {},
   "outputs": [],
   "source": []
  },
  {
   "cell_type": "code",
   "execution_count": null,
   "id": "b89ac860-982f-4639-8ccd-eec735f66735",
   "metadata": {},
   "outputs": [],
   "source": []
  },
  {
   "cell_type": "code",
   "execution_count": null,
   "id": "03e42ea3-8be9-45ab-98aa-fff157ea8404",
   "metadata": {},
   "outputs": [],
   "source": []
  },
  {
   "cell_type": "code",
   "execution_count": null,
   "id": "e1a5b851-b745-470f-80c1-3884707c243b",
   "metadata": {},
   "outputs": [],
   "source": []
  },
  {
   "cell_type": "code",
   "execution_count": null,
   "id": "3a2b607b-12b1-4283-aed1-cf13ce6bdb5b",
   "metadata": {},
   "outputs": [],
   "source": []
  },
  {
   "cell_type": "code",
   "execution_count": null,
   "id": "5cd91890-09c7-47cd-9d8d-a5a826815f31",
   "metadata": {},
   "outputs": [],
   "source": []
  },
  {
   "cell_type": "code",
   "execution_count": null,
   "id": "3f660f3e-5ed1-4121-b30e-ede4ba8f4b67",
   "metadata": {},
   "outputs": [],
   "source": []
  },
  {
   "cell_type": "code",
   "execution_count": 19,
   "id": "74499050-2775-4bbc-ac56-8f9123644507",
   "metadata": {},
   "outputs": [],
   "source": [
    "dz = 1e-3 * u.kpc\n",
    "#dists[(dists >= r) & (dists <= r+dr)]"
   ]
  },
  {
   "cell_type": "code",
   "execution_count": 20,
   "id": "f57c9e46-0550-42db-b838-ad28da165c1f",
   "metadata": {},
   "outputs": [
    {
     "name": "stdout",
     "output_type": "stream",
     "text": [
      "integrating... [0.2044802] [0.78539816] 233.0\n"
     ]
    },
    {
     "ename": "NameError",
     "evalue": "name 'z_array' is not defined",
     "output_type": "error",
     "traceback": [
      "\u001b[0;31m---------------------------------------------------------------------------\u001b[0m",
      "\u001b[0;31mNameError\u001b[0m                                 Traceback (most recent call last)",
      "Input \u001b[0;32mIn [20]\u001b[0m, in \u001b[0;36m<cell line: 13>\u001b[0;34m()\u001b[0m\n\u001b[1;32m     19\u001b[0m     \u001b[38;5;28mprint\u001b[39m(\u001b[38;5;124m\"\u001b[39m\u001b[38;5;124mintegrating...\u001b[39m\u001b[38;5;124m\"\u001b[39m, theta, phi, l_max)\n\u001b[1;32m     20\u001b[0m     ti \u001b[38;5;241m=\u001b[39m time\u001b[38;5;241m.\u001b[39mtime()\n\u001b[0;32m---> 21\u001b[0m     flux_array[i] \u001b[38;5;241m=\u001b[39m \u001b[43msci\u001b[49m\u001b[38;5;241;43m.\u001b[39;49m\u001b[43mintegrate\u001b[49m\u001b[38;5;241;43m.\u001b[39;49m\u001b[43mquad\u001b[49m\u001b[43m(\u001b[49m\u001b[43mintegrate_band\u001b[49m\u001b[43m,\u001b[49m\u001b[43mwavel_min\u001b[49m\u001b[38;5;241;43m.\u001b[39;49m\u001b[43mvalue\u001b[49m\u001b[43m,\u001b[49m\u001b[43mwavel_max\u001b[49m\u001b[38;5;241;43m.\u001b[39;49m\u001b[43mvalue\u001b[49m\u001b[43m,\u001b[49m\u001b[43m(\u001b[49m\u001b[43mtheta\u001b[49m\u001b[43m,\u001b[49m\u001b[43m \u001b[49m\u001b[43mphi\u001b[49m\u001b[43m,\u001b[49m\u001b[43m \u001b[49m\u001b[43ml_max\u001b[49m\u001b[43m)\u001b[49m\u001b[43m)\u001b[49m[\u001b[38;5;241m0\u001b[39m] \u001b[38;5;66;03m# sum\u001b[39;00m\n\u001b[1;32m     22\u001b[0m     \u001b[38;5;66;03m#print(tf-ti)\u001b[39;00m\n\u001b[1;32m     23\u001b[0m \u001b[38;5;28mprint\u001b[39m(flux_array[i], time\u001b[38;5;241m.\u001b[39mtime() \u001b[38;5;241m-\u001b[39m ti)\n",
      "File \u001b[0;32m~/.local/lib/python3.10/site-packages/scipy/integrate/_quadpack_py.py:351\u001b[0m, in \u001b[0;36mquad\u001b[0;34m(func, a, b, args, full_output, epsabs, epsrel, limit, points, weight, wvar, wopts, maxp1, limlst)\u001b[0m\n\u001b[1;32m    348\u001b[0m flip, a, b \u001b[38;5;241m=\u001b[39m b \u001b[38;5;241m<\u001b[39m a, \u001b[38;5;28mmin\u001b[39m(a, b), \u001b[38;5;28mmax\u001b[39m(a, b)\n\u001b[1;32m    350\u001b[0m \u001b[38;5;28;01mif\u001b[39;00m weight \u001b[38;5;129;01mis\u001b[39;00m \u001b[38;5;28;01mNone\u001b[39;00m:\n\u001b[0;32m--> 351\u001b[0m     retval \u001b[38;5;241m=\u001b[39m \u001b[43m_quad\u001b[49m\u001b[43m(\u001b[49m\u001b[43mfunc\u001b[49m\u001b[43m,\u001b[49m\u001b[43m \u001b[49m\u001b[43ma\u001b[49m\u001b[43m,\u001b[49m\u001b[43m \u001b[49m\u001b[43mb\u001b[49m\u001b[43m,\u001b[49m\u001b[43m \u001b[49m\u001b[43margs\u001b[49m\u001b[43m,\u001b[49m\u001b[43m \u001b[49m\u001b[43mfull_output\u001b[49m\u001b[43m,\u001b[49m\u001b[43m \u001b[49m\u001b[43mepsabs\u001b[49m\u001b[43m,\u001b[49m\u001b[43m \u001b[49m\u001b[43mepsrel\u001b[49m\u001b[43m,\u001b[49m\u001b[43m \u001b[49m\u001b[43mlimit\u001b[49m\u001b[43m,\u001b[49m\n\u001b[1;32m    352\u001b[0m \u001b[43m                   \u001b[49m\u001b[43mpoints\u001b[49m\u001b[43m)\u001b[49m\n\u001b[1;32m    353\u001b[0m \u001b[38;5;28;01melse\u001b[39;00m:\n\u001b[1;32m    354\u001b[0m     \u001b[38;5;28;01mif\u001b[39;00m points \u001b[38;5;129;01mis\u001b[39;00m \u001b[38;5;129;01mnot\u001b[39;00m \u001b[38;5;28;01mNone\u001b[39;00m:\n",
      "File \u001b[0;32m~/.local/lib/python3.10/site-packages/scipy/integrate/_quadpack_py.py:463\u001b[0m, in \u001b[0;36m_quad\u001b[0;34m(func, a, b, args, full_output, epsabs, epsrel, limit, points)\u001b[0m\n\u001b[1;32m    461\u001b[0m \u001b[38;5;28;01mif\u001b[39;00m points \u001b[38;5;129;01mis\u001b[39;00m \u001b[38;5;28;01mNone\u001b[39;00m:\n\u001b[1;32m    462\u001b[0m     \u001b[38;5;28;01mif\u001b[39;00m infbounds \u001b[38;5;241m==\u001b[39m \u001b[38;5;241m0\u001b[39m:\n\u001b[0;32m--> 463\u001b[0m         \u001b[38;5;28;01mreturn\u001b[39;00m \u001b[43m_quadpack\u001b[49m\u001b[38;5;241;43m.\u001b[39;49m\u001b[43m_qagse\u001b[49m\u001b[43m(\u001b[49m\u001b[43mfunc\u001b[49m\u001b[43m,\u001b[49m\u001b[43ma\u001b[49m\u001b[43m,\u001b[49m\u001b[43mb\u001b[49m\u001b[43m,\u001b[49m\u001b[43margs\u001b[49m\u001b[43m,\u001b[49m\u001b[43mfull_output\u001b[49m\u001b[43m,\u001b[49m\u001b[43mepsabs\u001b[49m\u001b[43m,\u001b[49m\u001b[43mepsrel\u001b[49m\u001b[43m,\u001b[49m\u001b[43mlimit\u001b[49m\u001b[43m)\u001b[49m\n\u001b[1;32m    464\u001b[0m     \u001b[38;5;28;01melse\u001b[39;00m:\n\u001b[1;32m    465\u001b[0m         \u001b[38;5;28;01mreturn\u001b[39;00m _quadpack\u001b[38;5;241m.\u001b[39m_qagie(func,bound,infbounds,args,full_output,epsabs,epsrel,limit)\n",
      "Input \u001b[0;32mIn [15]\u001b[0m, in \u001b[0;36mintegrate_band\u001b[0;34m(wavelength, theta, phi, l_max)\u001b[0m\n\u001b[1;32m    112\u001b[0m nu \u001b[38;5;241m=\u001b[39m (cst\u001b[38;5;241m.\u001b[39mc \u001b[38;5;241m/\u001b[39m (wavelength\u001b[38;5;241m*\u001b[39mu\u001b[38;5;241m.\u001b[39mAngstrom)\u001b[38;5;241m.\u001b[39mto(u\u001b[38;5;241m.\u001b[39mm))\u001b[38;5;241m.\u001b[39mto(u\u001b[38;5;241m.\u001b[39mHz) \u001b[38;5;66;03m# calculate outside\u001b[39;00m\n\u001b[1;32m    114\u001b[0m \u001b[38;5;66;03m# flux in erg / cm2 s sr Hz\u001b[39;00m\n\u001b[0;32m--> 115\u001b[0m dfdnu \u001b[38;5;241m=\u001b[39m \u001b[43msum_epsilon\u001b[49m\u001b[43m(\u001b[49m\u001b[38;5;241;43m0\u001b[39;49m\u001b[43m,\u001b[49m\u001b[43ml_max\u001b[49m\u001b[43m,\u001b[49m\u001b[43mtheta\u001b[49m\u001b[43m,\u001b[49m\u001b[43mphi\u001b[49m\u001b[43m,\u001b[49m\u001b[43mnu\u001b[49m\u001b[43m)\u001b[49m               \n\u001b[1;32m    116\u001b[0m \u001b[38;5;66;03m#dfdnu = (sci.integrate.romberg(func,0,l_max,(theta,phi,nu))[0] / (4*np.pi) * kpc_to_cm.value * dOmega)\u001b[39;00m\n\u001b[1;32m    117\u001b[0m                                                                           \u001b[38;5;66;03m#* u.kpc * (u.erg / u.Hz / u.s / u.cm**3 / u.sr)\u001b[39;00m\n\u001b[1;32m    118\u001b[0m \u001b[38;5;66;03m#print(theta,phi,nu)\u001b[39;00m\n\u001b[1;32m    119\u001b[0m \u001b[38;5;66;03m#dfdnu = (sci.integrate.romberg(func,0,l_max,(theta,phi,nu)) / (4*np.pi) * kpc_to_cm.value)\u001b[39;00m\n\u001b[1;32m    120\u001b[0m \u001b[38;5;66;03m# flux in photon / cm2 s sr Angstrom\u001b[39;00m\n\u001b[1;32m    121\u001b[0m dfdlambda \u001b[38;5;241m=\u001b[39m (dfdnu \u001b[38;5;241m*\u001b[39m u\u001b[38;5;241m.\u001b[39merg\u001b[38;5;241m/\u001b[39mu\u001b[38;5;241m.\u001b[39ms\u001b[38;5;241m/\u001b[39mu\u001b[38;5;241m.\u001b[39mHz\u001b[38;5;241m/\u001b[39mu\u001b[38;5;241m.\u001b[39mcm\u001b[38;5;241m*\u001b[39m\u001b[38;5;241m*\u001b[39m\u001b[38;5;241m2\u001b[39m\u001b[38;5;241m/\u001b[39mu\u001b[38;5;241m.\u001b[39msr)\u001b[38;5;241m.\u001b[39mto(u\u001b[38;5;241m.\u001b[39mphoton \u001b[38;5;241m/\u001b[39m u\u001b[38;5;241m.\u001b[39mcm\u001b[38;5;241m*\u001b[39m\u001b[38;5;241m*\u001b[39m\u001b[38;5;241m2\u001b[39m \u001b[38;5;241m/\u001b[39m u\u001b[38;5;241m.\u001b[39ms \u001b[38;5;241m/\u001b[39m u\u001b[38;5;241m.\u001b[39mAngstrom \u001b[38;5;241m/\u001b[39m u\u001b[38;5;241m.\u001b[39msr, u\u001b[38;5;241m.\u001b[39mspectral_density(wavelength \u001b[38;5;241m*\u001b[39m u\u001b[38;5;241m.\u001b[39mAngstrom))\u001b[38;5;241m.\u001b[39mvalue\n",
      "Input \u001b[0;32mIn [15]\u001b[0m, in \u001b[0;36msum_epsilon\u001b[0;34m(l_min, l_max, theta, phi, nu)\u001b[0m\n\u001b[1;32m    102\u001b[0m \u001b[38;5;28;01mdef\u001b[39;00m \u001b[38;5;21msum_epsilon\u001b[39m(l_min,l_max,theta,phi,nu):\n\u001b[0;32m--> 103\u001b[0m     dfdnu \u001b[38;5;241m=\u001b[39m \u001b[38;5;28msum\u001b[39m(func(\u001b[43mz_array\u001b[49m, theta, phi, nu))\n\u001b[1;32m    104\u001b[0m     \u001b[38;5;28;01mreturn\u001b[39;00m dfdnu \u001b[38;5;241m/\u001b[39m (\u001b[38;5;241m4\u001b[39m\u001b[38;5;241m*\u001b[39mnp\u001b[38;5;241m.\u001b[39mpi) \u001b[38;5;241m*\u001b[39m (dz\u001b[38;5;241m.\u001b[39mcgs)\u001b[38;5;241m.\u001b[39mvalue \u001b[38;5;241m*\u001b[39m dOmega\n",
      "\u001b[0;31mNameError\u001b[0m: name 'z_array' is not defined"
     ]
    }
   ],
   "source": [
    "#T_AQN = 1000* u.eV\n",
    "\n",
    "NSIDE = 2**2\n",
    "# Number of pixels in the skymap\n",
    "NPIX = hp.nside2npix(NSIDE)\n",
    "\n",
    "# create empty flux array based on pixel resolution\n",
    "flux_array = np.zeros(NPIX)\n",
    "dOmega = hp.nside2pixarea(nside=NSIDE)\n",
    "l_max = (r_vir_kpc).value\n",
    "\n",
    "# for each pixel:\n",
    "for i in list(range(NPIX)):\n",
    "    theta, phi = hp.pix2ang(nside=NSIDE, ipix=[i])          # as array\n",
    "    if np.degrees(theta)>73 and np.degrees(theta)<113:      # filter out\n",
    "        flux_array[i] = 0\n",
    "    else:\n",
    "    # integrate over Galex FUV Band\n",
    "        print(\"integrating...\", theta, phi, l_max)\n",
    "        ti = time.time()\n",
    "        flux_array[i] = sci.integrate.quad(integrate_band,wavel_min.value,wavel_max.value,(theta, phi, l_max))[0] # sum\n",
    "        #print(tf-ti)\n",
    "    print(flux_array[i], time.time() - ti)\n",
    "#    2.328713137077407e-16\n",
    "\n",
    "# l_max distance\n",
    "# integration precision (change from default?)\n",
    "# try integrate each of 4 separately (does 1 take longest?)\n"
   ]
  },
  {
   "cell_type": "markdown",
   "id": "5a09808c",
   "metadata": {},
   "source": [
    "## Optimizing Summation"
   ]
  },
  {
   "cell_type": "code",
   "execution_count": 21,
   "id": "4c4a44d0",
   "metadata": {},
   "outputs": [
    {
     "name": "stdout",
     "output_type": "stream",
     "text": [
      "Critical density at redshift z=0.5 is 1.532639674691421e-29 g / cm3\n",
      "0.1809470850312699 1 / cm3\n"
     ]
    }
   ],
   "source": [
    "distance    = 8 * u.kpc                                                                     # distance to MW galaxy centre  [kpc]\n",
    "galaxy_diameter = 30 * u.kpc\n",
    "galaxy_height = 0.3 * u.kpc\n",
    "\n",
    "# ----------- DM Halo Model -----------\n",
    "\n",
    "rho_0h = 0.0106 * u.solMass / u.pc**3\n",
    "r_h = 19.0 * u.kpc\n",
    "\n",
    "def rho_halo(R_kpc):\n",
    "    return rho_0h.to(u.kg/u.m**3) / ((R_kpc/r_h)*(1+R_kpc/r_h)**2)\n",
    "\n",
    "def n_halo(R_none):\n",
    "    return rho_halo(R_none*u.kpc) / m_AQN_kg\n",
    "\n",
    "\n",
    "\n",
    "# -----------  E2K Gas Model -----------\n",
    "[a1_c, b1_c, c1_c, \n",
    " a2_c, b2_c, c2_c, \n",
    " a3_c, b3_c, c3_c, \n",
    " a4_c, b4_c, c4_c, \n",
    " a5_c, b5_c, c5_c, \n",
    " a6_c, b6_c, c6_c] = [30.04649796,  0.4079755,  3.77607598,  \n",
    "              1e3,3e-1,15,\n",
    "             2.6e4,5e-2,3,\n",
    "             0,0,0,\n",
    "             0,0,0,\n",
    "             0,0,0,]\n",
    "\n",
    "[a1_w, b1_w, c1_w, \n",
    " a2_w, b2_w, c2_w, \n",
    " a3_w, b3_w, c3_w, \n",
    " a4_w, b4_w, c4_w, \n",
    " a5_w, b5_w, c5_w, \n",
    " a6_w, b6_w, c6_w] = [1.1e0,1e-1,0.22,\n",
    "              1.7e1,12e-1,110,\n",
    "              0.575e4,8.2e-2,13.7,\n",
    "             0,0,0,\n",
    "             0,0,0,\n",
    "             0,0,0,]\n",
    "\n",
    "[a1_wh, b1_wh, c1_wh, \n",
    " a2_wh, b2_wh, c2_wh, \n",
    " a3_wh, b3_wh, c3_wh, \n",
    " a4_wh, b4_wh, c4_wh, \n",
    " a5_wh, b5_wh, c5_wh, \n",
    " a6_wh, b6_wh, c6_wh] = [6.1e1,4.4e-1,1.8,\n",
    "              9e2,9.2e-2,2.8,\n",
    "              1.5e4,7e-2,9,\n",
    "             0,0,0,\n",
    "             0,0,0,\n",
    "             0,0,0,]\n",
    "\n",
    "[a1_h, b1_h, c1_h, \n",
    " a2_h, b2_h, c2_h, \n",
    " a3_h, b3_h, c3_h, \n",
    " a4_h, b4_h, c4_h, \n",
    " a5_h, b5_h, c5_h, \n",
    " a6_h, b6_h, c6_h] = [2e2,4e-1,9.5,\n",
    "              1e4,10e-2,6,\n",
    "              2.6e4,3e-2,3.1,\n",
    "              0,0,0,\n",
    "              0,0,0,\n",
    "              0,0,0,]\n",
    "\n",
    "from astropy.cosmology import WMAP7   # WMAP 7-year cosmology\n",
    "rho_crit_z05_cgs = WMAP7.critical_density(0.5)  # critical density at z = 0.5  \n",
    "rho_crit_z05_si = rho_crit_z05_cgs.to(u.kg / u.m**3)\n",
    "r_vir_kpc = 233 * u.kpc\n",
    "\n",
    "def rho_gas_component(R_kpc,gas_component):\n",
    "    x = (R_kpc/r_vir_kpc).value\n",
    "    if gas_component == \"cold\":\n",
    "        return  (a1_c / (1+(x/b1_c)**2)**c1_c + \\\n",
    "                 a2_c / (1+(x/b2_c)**2)**c2_c + \\\n",
    "                 a3_c / (1+(x/b3_c)**2)**c3_c) * rho_crit_z05_si\n",
    "    if gas_component == \"warm\":\n",
    "        return  (a1_w / (1+(x/b1_w)**2)**c1_w + \\\n",
    "                 a2_w / (1+(x/b2_w)**2)**c2_w + \\\n",
    "                 a3_w / (1+(x/b3_w)**2)**c3_w) * rho_crit_z05_si\n",
    "    if gas_component == \"warm-hot\":\n",
    "        return  (a1_wh / (1+(x/b1_wh)**2)**c1_wh + \\\n",
    "                 a2_wh / (1+(x/b2_wh)**2)**c2_wh + \\\n",
    "                 a3_wh / (1+(x/b3_wh)**2)**c3_wh) * rho_crit_z05_si \n",
    "    if gas_component == \"hot\":\n",
    "        return  (a1_h / (1+(x/b1_h)**2)**c1_h + \\\n",
    "                 a2_h / (1+(x/b2_h)**2)**c2_h + \\\n",
    "                 a3_h / (1+(x/b3_h)**2)**c3_h) * rho_crit_z05_si \n",
    "\n",
    "def n_gas_component(R_none, gas_component):\n",
    "    return rho_gas_component(R_none*u.kpc, gas_component) / cst.m_p.si\n",
    "\n",
    "\n",
    "def rho_gas(R_none):\n",
    "    return rho_gas_component(R_none,\"cold\") + rho_gas_component(R_none,\"warm\") + rho_gas_component(R_none,\"warm-hot\") + rho_gas_component(R_none,\"hot\")\n",
    "\n",
    "def n_gas(R_none):\n",
    "    return rho_gas(R_none) / cst.m_p.si\n",
    "\n",
    "\n",
    "print(\"Critical density at redshift z=0.5 is\", rho_crit_z05_cgs)\n",
    "    \n",
    "print(n_gas(8).cgs)"
   ]
  },
  {
   "cell_type": "code",
   "execution_count": 22,
   "id": "1a1cbae5",
   "metadata": {},
   "outputs": [],
   "source": [
    "NSIDE = 2**2\n",
    "NPIX = hp.nside2npix(NSIDE)\n",
    "wavelength_band_resolution = 30\n",
    "\n",
    "# array of theta, phi, for each pixel\n",
    "theta, phi = hp.pix2ang(nside = NSIDE, ipix = list(range(NPIX)))\n",
    "low_lat_filter = (np.degrees(theta) > 73) & (np.degrees(theta) < 113)\n",
    "high_lat_filter = (np.degrees(theta) < 73) | (np.degrees(theta) > 113)\n",
    "\n",
    "# array for wavelengths in galex waveband\n",
    "wavelength_band = np.arange(wavel_min.value, wavel_max.value, wavelength_band_resolution)\n",
    "frequency_band = (cst.c / (wavelength_band*u.Angstrom).to(u.m)).to(u.Hz)\n",
    "\n",
    "# array of distance elements\n",
    "dl = 1 * u.kpc # 1e-3 * u.kpc\n",
    "l_min, l_max = 0, (r_vir_kpc).value\n",
    "l_list = np.arange(l_min,l_max,dl.value)[:, np.newaxis]\n",
    "\n",
    "# 2D array of distance elements along each sightline, sun-centric\n",
    "l_array = np.ones((len(l_list),len(theta))) * l_list\n",
    "l_array[:,low_lat_filter] = 0\n",
    "\n",
    "# 2D array of distance elements along each sightline, galaxy-centric\n",
    "x = l_array * np.sin(theta) * np.cos(phi) + D\n",
    "y = l_array * np.sin(theta) * np.sin(phi)\n",
    "z = l_array * np.cos(theta)\n",
    "R_array = np.sqrt(x**2 + y**2 + z**2)\n",
    "\n",
    "# calculate mass densities of each gas component\n",
    "n_cold     = n_gas_component(R_array, \"cold\") \n",
    "\n",
    "n_warm     = n_gas_component(R_array, \"warm\") # avoid setting variables\n",
    "T_warm     = T_gas_warm\n",
    "\n",
    "n_warm_hot = n_gas_component(R_array, \"warm-hot\")\n",
    "T_warm_hot = T_gas_warm_hot\n",
    "\n",
    "n_hot      = n_gas_component(R_array, \"hot\")\n",
    "T_hot      = T_gas_hot\n",
    "\n",
    "\n",
    "# calculate AQN number density\n",
    "n_aqn = n_halo(R_array)\n",
    "\n",
    "\n",
    "# select a single frequency for now, later will be a bandwidth array\n",
    "nu = wavel_min.to(u.Hz, equivalencies = u.spectral())\n"
   ]
  },
  {
   "cell_type": "code",
   "execution_count": 62,
   "id": "701a7a0e",
   "metadata": {},
   "outputs": [
    {
     "data": {
      "text/plain": [
       "array([[9.30861455e-003, 9.30861455e-003, 9.30861455e-003, ...,\n",
       "        9.30861455e-003, 9.30861455e-003, 9.30861455e-003],\n",
       "       [6.20914416e-003, 1.09007754e-002, 1.09007754e-002, ...,\n",
       "        1.09007754e-002, 1.09007754e-002, 6.20914416e-003],\n",
       "       [3.19904278e-003, 1.00082484e-002, 1.00082484e-002, ...,\n",
       "        1.00082484e-002, 1.00082484e-002, 3.19904278e-003],\n",
       "       ...,\n",
       "       [2.44357093e-186, 4.37425854e-185, 4.37425854e-185, ...,\n",
       "        4.37425854e-185, 4.37425854e-185, 2.44357093e-186],\n",
       "       [6.95943081e-187, 1.24618112e-185, 1.24618112e-185, ...,\n",
       "        1.24618112e-185, 1.24618112e-185, 6.95943081e-187],\n",
       "       [1.98185651e-187, 3.54976853e-186, 3.54976853e-186, ...,\n",
       "        3.54976853e-186, 3.54976853e-186, 1.98185651e-187]])"
      ]
     },
     "execution_count": 62,
     "metadata": {},
     "output_type": "execute_result"
    }
   ],
   "source": [
    "def func(R_arr, nu):\n",
    "    epsilon = (spectral_spatial_emissivity_cold(n_aqn, n_cold,     Dv, f, g,                    nu) +\n",
    "               spectral_spatial_emissivity_hot( n_aqn, n_warm,     Dv, f, g, T_warm,     R_AQN, nu) +\n",
    "               spectral_spatial_emissivity_hot( n_aqn, n_warm_hot, Dv, f, g, T_warm_hot, R_AQN, nu) +\n",
    "               spectral_spatial_emissivity_hot( n_aqn, n_hot,      Dv, f, g, T_hot, R_AQN, nu))\n",
    "    return epsilon.value / (4*np.pi) * (dz.cgs).value * dOmega\n",
    "\n",
    "\n",
    "\n",
    "dfdnu = func(R_array,nu)          \n",
    "\n",
    "# add summing across all columns\n",
    "\n",
    "dfdlambda = (dfdnu * u.erg/u.s/u.Hz/u.cm**2/u.sr).to(u.photon / u.cm**2 / u.s / u.Angstrom / u.sr, u.spectral_density(wavel_min)).value\n",
    "dfdlambda"
   ]
  },
  {
   "cell_type": "code",
   "execution_count": 52,
   "id": "0eb6dc53",
   "metadata": {},
   "outputs": [
    {
     "data": {
      "text/latex": [
       "$[[4.9910067 \\times 10^{-70},~4.9910067 \\times 10^{-70},~4.9910067 \\times 10^{-70},~\\dots,~4.9910067 \\times 10^{-70},~4.9910067 \\times 10^{-70},~4.9910067 \\times 10^{-70}],~\n",
       " [2.5116963 \\times 10^{-70},~6.5526459 \\times 10^{-70},~6.5526459 \\times 10^{-70},~\\dots,~6.5526459 \\times 10^{-70},~6.5526459 \\times 10^{-70},~2.5116963 \\times 10^{-70}],~\n",
       " [8.4617533 \\times 10^{-71},~5.6535204 \\times 10^{-70},~5.6535204 \\times 10^{-70},~\\dots,~5.6535204 \\times 10^{-70},~5.6535204 \\times 10^{-70},~8.4617533 \\times 10^{-71}],~\n",
       " \\dots,~\n",
       " [0,~0,~0,~\\dots,~0,~0,~0],~\n",
       " [0,~0,~0,~\\dots,~0,~0,~0],~\n",
       " [0,~0,~0,~\\dots,~0,~0,~0]] \\; \\mathrm{\\frac{erg}{Hz\\,s\\,cm^{3}}}$"
      ],
      "text/plain": [
       "<Quantity [[4.99100675e-70, 4.99100675e-70, 4.99100675e-70, ...,\n",
       "            4.99100675e-70, 4.99100675e-70, 4.99100675e-70],\n",
       "           [2.51169633e-70, 6.55264585e-70, 6.55264585e-70, ...,\n",
       "            6.55264585e-70, 6.55264585e-70, 2.51169633e-70],\n",
       "           [8.46175331e-71, 5.65352038e-70, 5.65352038e-70, ...,\n",
       "            5.65352038e-70, 5.65352038e-70, 8.46175331e-71],\n",
       "           ...,\n",
       "           [0.00000000e+00, 0.00000000e+00, 0.00000000e+00, ...,\n",
       "            0.00000000e+00, 0.00000000e+00, 0.00000000e+00],\n",
       "           [0.00000000e+00, 0.00000000e+00, 0.00000000e+00, ...,\n",
       "            0.00000000e+00, 0.00000000e+00, 0.00000000e+00],\n",
       "           [0.00000000e+00, 0.00000000e+00, 0.00000000e+00, ...,\n",
       "            0.00000000e+00, 0.00000000e+00, 0.00000000e+00]] erg / (cm3 Hz s)>"
      ]
     },
     "execution_count": 52,
     "metadata": {},
     "output_type": "execute_result"
    }
   ],
   "source": [
    "#sum(func(R_array[:,0],nu)) # --> works well!\n",
    "#sum(func(R_array,nu))      # --> adjustments needed for supporting 2D array input\n",
    "#n_gas_component(R_array, \"cold\").shape\n",
    "\n",
    "#spectral_surface_emissivity(nu, T_AQN_analytical(n_cold,Dv,f,g))\n",
    "\n",
    "w_T = ((2 * np.pi * nu * Hz_to_erg)/(T_AQN_analytical(n_cold, Dv, f, g)*eV_to_erg))\n",
    "\n",
    "\n",
    "h_func_cutoff = 17 + 12*np.log(2)\n",
    "def h(x):\n",
    "    return_array = np.copy(x)\n",
    "    return_array[np.where(x<1)] = (17 - 12*np.log(x[np.where(x<1)]/2))\n",
    "    return_array[np.where(x>=1)] = h_func_cutoff\n",
    "    return return_array\n",
    "\n",
    "\n",
    "#h(w_T)\n",
    "spectral_spatial_emissivity_cold(n_aqn, n_cold, Dv, f, g, nu) "
   ]
  },
  {
   "cell_type": "code",
   "execution_count": 48,
   "id": "6fa7e5f6",
   "metadata": {},
   "outputs": [
    {
     "data": {
      "text/latex": [
       "$[[58.041594,~58.041594,~58.041594,~\\dots,~58.041594,~58.041594,~58.041594],~\n",
       " [58.66396,~57.795289,~57.795289,~\\dots,~57.795289,~57.795289,~58.66396],~\n",
       " [59.653012,~57.928793,~57.928793,~\\dots,~57.928793,~57.928793,~59.653012],~\n",
       " \\dots,~\n",
       " [1,~1,~1,~\\dots,~1,~1,~1],~\n",
       " [1,~1,~1,~\\dots,~1,~1,~1],~\n",
       " [1,~1,~1,~\\dots,~1,~1,~1]] \\; \\mathrm{}$"
      ],
      "text/plain": [
       "<Quantity [[58.04159409, 58.04159409, 58.04159409, ..., 58.04159409,\n",
       "            58.04159409, 58.04159409],\n",
       "           [58.66395985, 57.79528911, 57.79528911, ..., 57.79528911,\n",
       "            57.79528911, 58.66395985],\n",
       "           [59.65301224, 57.9287925 , 57.9287925 , ..., 57.9287925 ,\n",
       "            57.9287925 , 59.65301224],\n",
       "           ...,\n",
       "           [ 1.        ,  1.        ,  1.        , ...,  1.        ,\n",
       "             1.        ,  1.        ],\n",
       "           [ 1.        ,  1.        ,  1.        , ...,  1.        ,\n",
       "             1.        ,  1.        ],\n",
       "           [ 1.        ,  1.        ,  1.        , ...,  1.        ,\n",
       "             1.        ,  1.        ]]>"
      ]
     },
     "execution_count": 48,
     "metadata": {},
     "output_type": "execute_result"
    }
   ],
   "source": [
    "w_T.shape\n",
    "\n",
    "return_array = np.copy(w_T)\n",
    "return_array[np.where(w_T>100)] = 1\n",
    "return_array"
   ]
  },
  {
   "cell_type": "code",
   "execution_count": 54,
   "id": "ff265218",
   "metadata": {},
   "outputs": [
    {
     "data": {
      "text/plain": [
       "array([[5.18114240e-042, 5.18114240e-042, 5.18114240e-042, ...,\n",
       "        5.18114240e-042, 5.18114240e-042, 5.18114240e-042],\n",
       "       [3.45598799e-042, 6.06733360e-042, 6.06733360e-042, ...,\n",
       "        6.06733360e-042, 6.06733360e-042, 3.45598799e-042],\n",
       "       [1.78057606e-042, 5.57055617e-042, 5.57055617e-042, ...,\n",
       "        5.57055617e-042, 5.57055617e-042, 1.78057606e-042],\n",
       "       ...,\n",
       "       [1.36008306e-225, 2.43469705e-224, 2.43469705e-224, ...,\n",
       "        2.43469705e-224, 2.43469705e-224, 1.36008306e-225],\n",
       "       [3.87359493e-226, 6.93620064e-225, 6.93620064e-225, ...,\n",
       "        6.93620064e-225, 6.93620064e-225, 3.87359493e-226],\n",
       "       [1.10309443e-226, 1.97578879e-225, 1.97578879e-225, ...,\n",
       "        1.97578879e-225, 1.97578879e-225, 1.10309443e-226]])"
      ]
     },
     "execution_count": 54,
     "metadata": {},
     "output_type": "execute_result"
    }
   ],
   "source": [
    "func(R_array, nu)"
   ]
  },
  {
   "cell_type": "code",
   "execution_count": null,
   "id": "1c518a8c",
   "metadata": {},
   "outputs": [],
   "source": []
  },
  {
   "cell_type": "code",
   "execution_count": 31,
   "id": "70cacf04",
   "metadata": {},
   "outputs": [],
   "source": [
    "def sum_epsilon(l_min,l_max,theta,phi,nu):\n",
    "    dfdnu = sum(func(z_array, theta, phi, nu))\n",
    "    return dfdnu / (4*np.pi) * (dz.cgs).value * dOmega\n"
   ]
  },
  {
   "cell_type": "code",
   "execution_count": 32,
   "id": "c791707f",
   "metadata": {},
   "outputs": [],
   "source": [
    "\n",
    "# erg Hz^-1 s^-1 cm^-2\n",
    "# nu Hz\n",
    "# T eV\n",
    "def spectral_surface_emissivity(nu, T):\n",
    "    T = T * eV_to_erg\n",
    "    w = 2 * np.pi * nu * Hz_to_erg\n",
    "    unit_factor = (1 / cst.hbar.cgs) * (1/(cst.hbar.cgs * cst.c.cgs))**2 * (cst.hbar.cgs * 1/u.Hz * 1/u.s)\n",
    "    #                ^ 1/seconds           ^ 1/area                          ^ 1/frequency and energy\n",
    "    #print(np.array(w/T))\n",
    "    return unit_factor * 4/45 * T**3 * cst.alpha ** (5/2) * 1/np.pi * (T/(m_e_eV*eV_to_erg))**(1/4) * (1 + w/T) * np.exp(- w/T) * h(w/T)\n",
    "\n",
    "\n",
    "def spectral_spatial_emissivity_cold(n_AQN, n_bar, Dv, f, g, nu):\n",
    "    t_i = time.time()\n",
    "    T_AQN = T_AQN_analytical(n_bar, Dv, f, g)\n",
    "    # print(\"Time taken 0: \", time.time() - t_i)\n",
    "    #print(T_AQN)\n",
    "    #T_AQN = 1 * u.eV ########################################################\n",
    "    dFdw = spectral_surface_emissivity(nu, T_AQN)\n",
    "    return dFdw * 4 * np.pi * R_AQN**2 * n_AQN.to(1/u.cm**3)\n",
    "\n",
    "def spectral_spatial_emissivity_hot(n_AQN, n_bar, Dv, f, g, T_gas, R_AQN, nu):\n",
    "    t_i = time.time()\n",
    "    T_AQN = max(T_AQN_analytical(n_bar, Dv, f, g), T_AQN_ionized(n_bar, Dv, f, g, T_gas, R_AQN))\n",
    "    # print(\"Time taken: \", time.time() - t_i)\n",
    "    t_i = time.time()\n",
    "    dFdw = spectral_surface_emissivity(nu, T_AQN)\n",
    "    # print(\"Time taken 2: \", time.time() - t_i)\n",
    "    return dFdw * 4 * np.pi * R_AQN**2 * n_AQN.to(1/u.cm**3)\n",
    "\n",
    "\n",
    "\n",
    "\n",
    "\n",
    "def func(l, theta, phi, nu):\n",
    "    t_tot = time.time()\n",
    "    t_i = time.time()\n",
    "    r,z = coord_conv([l, theta, phi])\n",
    "    # print(\"1\",time.time() - t_i)\n",
    "    \n",
    "    t_i = time.time()\n",
    "    n_cold     = n_gas_component(r,z, \"cold\")\n",
    "    #T_cold     = T_gas_cold\n",
    "    # print(\"2\",time.time() - t_i)\n",
    "    \n",
    "    t_i = time.time()\n",
    "    n_warm     = n_gas_component(r,z, \"warm\") # avoid setting variables\n",
    "    T_warm     = T_gas_warm\n",
    "    # print(\"3\",time.time() - t_i)\n",
    "    \n",
    "    t_i = time.time()\n",
    "    n_warm_hot = n_gas_component(r,z, \"warm-hot\")\n",
    "    T_warm_hot = T_gas_warm_hot\n",
    "    # print(\"4\",time.time() - t_i)\n",
    "    \n",
    "    t_i = time.time()\n",
    "    n_hot      = n_gas_component(r,z, \"hot\")\n",
    "    T_hot      = T_gas_hot\n",
    "    # print(\"5\",time.time() - t_i)\n",
    "    \n",
    "    t_i = time.time()\n",
    "    n_aqn = n_halo(r,z)\n",
    "    # print(\"6\",time.time() - t_i)\n",
    "    \n",
    "    t_i = time.time()\n",
    "    epsilon = (spectral_spatial_emissivity_cold(n_aqn, n_cold, Dv, f, g, nu) +\n",
    "               spectral_spatial_emissivity_hot(n_aqn, n_warm,     Dv, f, g, T_warm,     R_AQN, nu) +\n",
    "               spectral_spatial_emissivity_hot(n_aqn, n_warm_hot, Dv, f, g, T_warm_hot, R_AQN, nu) +\n",
    "               spectral_spatial_emissivity_hot(n_aqn, n_hot,      Dv, f, g, T_hot, R_AQN, nu))\n",
    "    return epsilon.value\n",
    "\n",
    "def response_func(wavelength):\n",
    "    return 1 #wavelength/(wavel_max - wavel_min).value\n",
    "\n",
    "\n",
    "\n",
    "def h(x):\n",
    "    return_array = np.zeros(len(x))\n",
    "    return_array[np.where(x<1)] = (17 - 12*np.log(x[np.where(x<1)]/2))\n",
    "    return_array[np.where(x>=1)] = 17 + 12*np.log(2)\n",
    "    return return_array\n",
    "def spectral_spatial_emissivity_hot(n_AQN, n_bar, Dv, f, g, T_gas, R_AQN, nu):\n",
    "    T_neu_eV = T_AQN_analytical(n_bar, Dv, f, g)\n",
    "    T_ion_eV = T_AQN_ionized(n_bar, Dv, f, g, T_gas, R_AQN)\n",
    "    #print(T_neu_eV, T_ion_eV)\n",
    "    T_AQN = T_neu_eV.copy()                   # don't need this, use T_neu_eV\n",
    "    ion_greater_neu = np.where(T_ion_eV > T_neu_eV)\n",
    "    T_AQN[ion_greater_neu] = T_ion_eV[ion_greater_neu]\n",
    "    #print(T_AQN)\n",
    "    #T_AQN = max(T_AQN_analytical(n_bar, Dv, f, g), T_AQN_ionized(n_bar, Dv, f, g, T_gas, R_AQN))\n",
    "    \n",
    "    #T_AQN = \n",
    "    \n",
    "    dFdw = spectral_surface_emissivity(nu, T_AQN)\n",
    "    return dFdw * 4 * np.pi * R_AQN**2 * n_AQN.to(1/u.cm**3)\n",
    "\n",
    "def sum_epsilon(l_min,l_max,theta,phi,nu):\n",
    "    dfdnu = sum(func(z_array, theta, phi, nu))\n",
    "    return dfdnu / (4*np.pi) * (dz.cgs).value * dOmega\n",
    "\n",
    "def integrate_band(wavelength, theta, phi, l_max):\n",
    "    t_i = time.time()\n",
    "    nu = (cst.c / (wavelength*u.Angstrom).to(u.m)).to(u.Hz) #\n",
    "    dfdnu = sum_epsilon(0,l_max,theta,phi,nu)          \n",
    "    dfdlambda = (dfdnu * u.erg/u.s/u.Hz/u.cm**2/u.sr).to(u.photon / u.cm**2 / u.s / u.Angstrom / u.sr, u.spectral_density(wavelength * u.Angstrom)).value\n",
    "    print(\"for wavelength \", wavelength,dfdlambda, time.time()-t_i)\n",
    "\n",
    "    return dfdlambda * response_func(wavelength)\n",
    "# samp"
   ]
  },
  {
   "cell_type": "markdown",
   "id": "5226970a-bbba-427c-963b-8ef6be3c7ed9",
   "metadata": {},
   "source": [
    "### Sanity Checks"
   ]
  },
  {
   "cell_type": "markdown",
   "id": "48ae8529-2f1b-41a0-8eb6-0142ee2796b1",
   "metadata": {},
   "source": [
    "#### Comparing to Ariel's Paper"
   ]
  },
  {
   "cell_type": "code",
   "execution_count": null,
   "id": "c9bf9c96-4857-420a-a71a-717fbbf4bf22",
   "metadata": {},
   "outputs": [],
   "source": [
    "print(\"dark matter mass density seems to match the paper:\\n Expected: 0.3 GeV / cm3, \", \n",
    "      \"Our result:\",(rho_halo(8*u.kpc,0*u.kpc)).to(u.g/u.cm**3) * g_to_GeV)\n",
    "print(\"visible matter number density does not match the paper:\\n Expected: 150 1 / cm3, \",\n",
    "      \"Our result:\", (n_gas(8,0)).to(1/u.cm**3))\n",
    "print(\"This causes a mismatch in Temperature:\\n Expected: 1 eV, \",\n",
    "      \"Our result:\", T_AQN_analytical(n_gas(8,0), Dv, f, g))\n",
    "(rho_gas(8*u.kpc,0*u.kpc)).to(u.g/u.cm**3)"
   ]
  },
  {
   "cell_type": "markdown",
   "id": "6bae4fb6-807f-48a6-9ec3-99bbfe6734e9",
   "metadata": {},
   "source": [
    "#### 1. Temperature"
   ]
  },
  {
   "cell_type": "code",
   "execution_count": null,
   "id": "eb797fd4-c96a-4690-a208-96724add0b77",
   "metadata": {},
   "outputs": [],
   "source": [
    "f,g = 1/10, 1/10\n",
    "n_bar = 1 * 1/u.cm**3\n",
    "Dv = 10**-3 * u.dimensionless_unscaled\n",
    "m_AQN = 1 * u.g * g_to_GeV\n",
    "\n",
    "R_AQN = 10**-5 * u.cm\n",
    "n_AQN = 1.67*10**-24 * 1/u.cm**3\n",
    "#  ^^ I don't think T_AQN depends on R_AQN or n_AQN\n",
    "\n",
    "T_AQN_analytical(n_bar, Dv, f, g)\n",
    "#print(\"T_AQN is: \", T_AQN_numerical( n_bar, Dv, f, g))\n",
    "\n",
    "print(n_AQN)"
   ]
  },
  {
   "cell_type": "markdown",
   "id": "a226b187-cb9c-4ee7-9e2a-0c7051d451cb",
   "metadata": {},
   "source": [
    "#### 2. Total Flux Integrated Over All Wavelengths"
   ]
  },
  {
   "cell_type": "code",
   "execution_count": null,
   "id": "f3297e85-6dbc-4a58-a5f3-176db6c79755",
   "metadata": {},
   "outputs": [],
   "source": [
    "# def integral_function(wavel):\n",
    "#     nu = (cst.c / (wavel*u.Angstrom).to(u.m)).to(u.Hz)    \n",
    "#     return spectral_spatial_emissivity(n_AQN.to(1/u.m**3) * invm3_to_GeV3, n_bar, Dv, f, g, nu).value\n",
    "\n",
    "#sci.integrate.quad(integral_function,(10**-18*u.m).to(u.Angstrom).value,(100*u.km).to(u.Angstrom).value)[0] * u.erg / u.s / u.cm**3\n",
    "\n",
    "n_AQN = 1.28516*10**-38 * u.eV**3 * cm_to_eVinv**3\n",
    "print(n_AQN)\n",
    "F_tot(T_AQN_analytical(n_bar, Dv, f, g)) * 4 * np.pi * R_AQN**2 * n_AQN\n"
   ]
  },
  {
   "cell_type": "markdown",
   "id": "4e615ce6-c97c-4753-bb49-9ea75fd5af66",
   "metadata": {},
   "source": [
    "#### 3. Total Flux @ 1 GHz"
   ]
  },
  {
   "cell_type": "code",
   "execution_count": null,
   "id": "ba9158dc-523d-4245-8d49-4b5d19e2c8ae",
   "metadata": {},
   "outputs": [],
   "source": [
    "f,g = 1/10, 1/10\n",
    "n_bar = 1 * 1/u.cm**3\n",
    "Dv = 10**-3 * u.dimensionless_unscaled\n",
    "m_AQN = 1 * u.g * g_to_GeV\n",
    "\n",
    "R_AQN = 10**-5 * u.cm\n",
    "n_AQN = 1.67*10**-24 * 1/u.cm**3\n",
    "#  ^^ I don't think T_AQN depends on R_AQN or n_AQN\n",
    "\n",
    "\n",
    "nu = (1 * u.GHz).to(u.Hz)\n",
    "spectral_spatial_emissivity(n_AQN, n_bar, Dv, f, g, nu)"
   ]
  },
  {
   "cell_type": "markdown",
   "id": "2fd12e2a-471c-42a6-8940-294a5e41993c",
   "metadata": {},
   "source": [
    "#### Integrating to Find Gas Mass"
   ]
  },
  {
   "cell_type": "code",
   "execution_count": null,
   "id": "48e9045f-fafc-4886-8502-3f34c86a420b",
   "metadata": {},
   "outputs": [],
   "source": [
    "galaxy_diameter\n",
    "galaxy_height\n",
    "kpc_to_m = (1*u.kpc).to(u.m).value\n",
    "\n",
    "# print(sci.integrate.dblquad(integrate_gas_mass, 0.01, galaxy_diameter.value, lambda z: -galaxy_height.value, lambda z: galaxy_height.value)[0]*2*np.pi)\n",
    "# print(sci.integrate.dblquad(integrate_gas_mass, -galaxy_height.value, galaxy_height.value, lambda z: 0.01, lambda z: galaxy_diameter.value)[0]*2*np.pi)\n"
   ]
  },
  {
   "cell_type": "code",
   "execution_count": null,
   "id": "0a85e1f1-b7fb-46aa-b7f3-33dba48cb6c0",
   "metadata": {},
   "outputs": [],
   "source": [
    "def integrate_gas_mass(r,z):\n",
    "    return rho_gas(r*u.kpc,z*u.kpc).value * r * kpc_to_m * kpc_to_m\n",
    "\n",
    "def integrate_gas_mass_radius(z):\n",
    "    return sci.integrate.quad(integrate_gas_mass, 0, galaxy_diameter.value, (z))[0] * kpc_to_m\n",
    "\n",
    "print((sci.integrate.quad(integrate_gas_mass_radius,-galaxy_height.value,galaxy_height.value)[0]*2*np.pi*u.kg).to(u.solMass))\n",
    "\n",
    "print((sci.integrate.quad(integrate_gas_mass_radius,-1,1)[0]*2*np.pi*u.kg).to(u.solMass))"
   ]
  },
  {
   "cell_type": "code",
   "execution_count": null,
   "id": "10af1597-7c1b-4881-924c-e5b17b7a40b7",
   "metadata": {},
   "outputs": [],
   "source": []
  },
  {
   "cell_type": "code",
   "execution_count": null,
   "id": "e5c175ac-8bb5-44fa-b854-15a8b6f9d2bb",
   "metadata": {},
   "outputs": [],
   "source": [
    "hp.mollview(np.log(flux_array), title=\"title\", cmap='magma')\n",
    "plt.show()\n",
    "# 23  24\n",
    "#flux_array[22] = -2.8750126140481806e-42\n",
    "#flux_array[25] = -2.8750126140481806e-42"
   ]
  },
  {
   "cell_type": "code",
   "execution_count": null,
   "id": "a669d701-bd13-48c4-936d-357fc5852840",
   "metadata": {},
   "outputs": [],
   "source": [
    "n_bar = 0.1 * 1/u.cm**3\n",
    "R_AQN\n",
    "Dv\n",
    "\n",
    "\n",
    "T_AQN_analytical(n_bar, Dv, f, g)\n",
    "\n"
   ]
  },
  {
   "cell_type": "code",
   "execution_count": null,
   "id": "dc9b31a1-c6a0-4c22-9830-bdf553e6889c",
   "metadata": {},
   "outputs": [],
   "source": [
    "# cross-check with ludo\n",
    "T_plasma = 0.8617 * u.eV\n",
    "T_AQN_ionized(n_bar, Dv, f, g, T_plasma, R_AQN)\n",
    "nu = 1.26e15 * u.Hz\n",
    "spectral_surface_emissivity(nu, T_AQN_ionized(n_bar, Dv, f, g, T_plasma, R_AQN))\n",
    "n_AQN = 5.02 * 10**(-25) * 1/u.cm**3\n",
    "n_AQN\n",
    "\n",
    "\n",
    "\n",
    "def spectral_spatial_emissivity_hot(n_AQN, n_bar, Dv, f, g, T_gas, R_AQN, nu):\n",
    "    T_AQN = T_AQN_ionized(n_bar, Dv, f, g, T_gas, R_AQN)\n",
    "    #print(T_AQN)\n",
    "    #T_AQN = 1 * u.eV ########################################################\n",
    "    dFdw = spectral_surface_emissivity(nu, T_AQN)\n",
    "    print(\"--\",T_AQN, n_bar)\n",
    "    return dFdw * 4 * np.pi * R_AQN**2 * n_AQN.to(1/u.cm**3) #                                                    !!!!!!!!!!!!!!!!!!\n",
    "\n",
    "spectral_spatial_emissivity_hot(n_AQN, n_bar, Dv, f, g, T_plasma, R_AQN, nu) * (1*u.kpc).cgs * 1/(4*np.pi*u.sr) "
   ]
  },
  {
   "cell_type": "markdown",
   "id": "b7ee9f4a-a103-443c-b96d-88462a80ea1f",
   "metadata": {},
   "source": [
    "### Playing with new Galaxy Model (Arif Babul)"
   ]
  },
  {
   "cell_type": "code",
   "execution_count": null,
   "id": "5a9aee53-0ed9-4e62-90b9-44d1ac850296",
   "metadata": {},
   "outputs": [],
   "source": [
    "plot_y = 10**6\n",
    "\n",
    "print(\"at 10e-3 r_vir, rho/rho_crit=\",plot_y)\n",
    "\n",
    "from astropy.cosmology import WMAP7   # WMAP 7-year cosmology\n",
    "rho_crit_z0 = WMAP7.critical_density(0)  # critical density at z = 0  \n",
    "print(\"Critical density at redshift z=0 is\", rho_crit_z0)\n",
    "print(\"So rho=\",plot_y * rho_crit_z0)\n",
    "print(\"n=\",plot_y * rho_crit_z0/cst.m_p.cgs)\n",
    "print(\"But Ludo suggests 500 1 / cm3\")"
   ]
  },
  {
   "cell_type": "code",
   "execution_count": null,
   "id": "e5305072-48b6-4d07-aaa8-c7611969b2fd",
   "metadata": {},
   "outputs": [],
   "source": [
    "WMAP7.critical_density(0.5)"
   ]
  },
  {
   "cell_type": "code",
   "execution_count": null,
   "id": "0e9ef03e-b481-47ca-a414-906372b31d7f",
   "metadata": {},
   "outputs": [],
   "source": [
    "spectral_surface_emissivity(1.93e15*u.Hz, 0.5*u.eV)\n",
    "spectral_surface_emissivity((1*u.GHz).to(u.Hz), 0.1*u.eV)\n",
    "\n",
    "\n",
    "plt.figure(figsize=(8, 6), dpi=100)\n",
    "\n",
    "T = np.arange(0.1,1.1,0.02) * u.eV\n",
    "epsilon = np.zeros(len(T))\n",
    "for i in range(len(T)):\n",
    "    epsilon[i] = spectral_surface_emissivity(2e15*u.Hz, T[i]).value\n",
    "plt.plot(T,epsilon, label=\"2e6 GHz\")\n",
    "\n",
    "\n",
    "T = np.arange(0.1,1.1,0.02) * u.eV\n",
    "epsilon = np.zeros(len(T))\n",
    "for i in range(len(T)):\n",
    "    epsilon[i] = spectral_surface_emissivity((1*u.GHz).to(u.Hz), T[i]).value\n",
    "plt.plot(T,epsilon, label=\"1 GHz\")\n",
    "\n",
    "plt.yscale('log')\n",
    "plt.xlabel(\"T [eV]\",size=15)\n",
    "plt.ylabel(\"dF/dnu [erg/cm$^2\\cdot$Hz$\\cdot$s]\",size=15)\n",
    "plt.legend()\n",
    "plt.savefig(\"spectral_surface_emissivity.png\")\n",
    "plt.show()"
   ]
  },
  {
   "cell_type": "code",
   "execution_count": null,
   "id": "73014e13-8803-4435-9c34-a22033e132d2",
   "metadata": {},
   "outputs": [],
   "source": [
    "plt.figure(figsize=(6, 4), dpi=150)\n",
    "\n",
    "import csv\n",
    "def plotting_function(filename, gas_type, color, A=0, B=0):\n",
    "    with open(filename, mode='r') as file:\n",
    "        reader = csv.reader(file, delimiter=\",\")\n",
    "        next(reader)\n",
    "        x = []\n",
    "        y = []\n",
    "        for r in reader:\n",
    "            #print(r[4],r[5],r[6])\n",
    "            #led_positions.setdefault(r[0],{}).update({r[1]: np.array([r[2], r[3]]).astype(float)})\n",
    "            x.append(float(r[5]))\n",
    "            y.append(float(r[6]))\n",
    "    x = np.array(x)\n",
    "    y = np.array(y)\n",
    "\n",
    "    xdata = 10**x\n",
    "    ydata = 10**y\n",
    "\n",
    "    plt.scatter(10**x, 10**y, s=7,marker=\".\",color=color,label=gas_type + \" gas\")\n",
    "    \n",
    "    if A!=0:\n",
    "        x = np.arange(-3.5,0.5,0.01)\n",
    "        x_exp = 10**x\n",
    "        plt.plot(x_exp,A * (x_exp)**B, color=color)\n",
    "\n",
    "plotting_function(\"E2K_Gas_Cold.csv\", \"cold\", \"blue\", 0, 0)\n",
    "plotting_function(\"E2K_Gas_Warm.csv\", \"warm\", \"green\", 0, 0)\n",
    "plotting_function(\"E2K_Gas_Warm_Hot.csv\", \"warm-hot\", \"red\", 0, 0)\n",
    "plotting_function(\"E2K_Gas_Hot.csv\", \"hot\", \"cyan\", 0, 0)\n",
    "\n",
    "\n",
    "x = np.arange(-3.5,1,0.01)\n",
    "x_exp = 10**x\n",
    "# plt.plot(x_exp,A * (x_exp)**B, label=\"0th order excel fit\")\n",
    "plt.plot(x_exp, a1_c / (1+(x_exp/b1_c)**2)**c1_c + \\\n",
    "                 a2_c / (1+(x_exp/b2_c)**2)**c2_c + \\\n",
    "                 a3_c / (1+(x_exp/b3_c)**2)**c3_c, lw=\"1\", ls=\"-\", color=\"gray\")\n",
    "\n",
    "plt.plot(x_exp,  a1_w / (1+(x_exp/b1_w)**2)**c1_w + \\\n",
    "                 a2_w / (1+(x_exp/b2_w)**2)**c2_w + \\\n",
    "                 a3_w / (1+(x_exp/b3_w)**2)**c3_w, lw=\"1\", ls=\"-\", color=\"gray\")\n",
    "\n",
    "plt.plot(x_exp,  a1_wh / (1+(x_exp/b1_wh)**2)**c1_wh + \\\n",
    "                 a2_wh / (1+(x_exp/b2_wh)**2)**c2_wh + \\\n",
    "                 a3_wh / (1+(x_exp/b3_wh)**2)**c3_wh, lw=\"1\", ls=\"-\", color=\"gray\")\n",
    "\n",
    "plt.plot(x_exp,  a1_h / (1+(x_exp/b1_h)**2)**c1_h + \\\n",
    "                 a2_h / (1+(x_exp/b2_h)**2)**c2_h + \\\n",
    "                 a3_h / (1+(x_exp/b3_h)**2)**c3_h, lw=\"1\", ls=\"-\", color=\"gray\")\n",
    "\n",
    "\n",
    "\n",
    "plt.plot([r_min_kpc.value,r_min_kpc.value]/r_vir_kpc.value,[10e-6,10e8], label=\"r$_{min}$\")\n",
    "\n",
    "\n",
    "# def power_law_fit(x, A, B):\n",
    "#     return A * x**B\n",
    "# x = np.arange(-3.5,1,0.01)\n",
    "# x_exp = 10**x\n",
    "# plt.plot(x_exp,power_law_fit(x_exp, *parameters), label=\"0th order scipy fit\")\n",
    "\n",
    "\n",
    "plt.yscale('log')\n",
    "plt.xscale('log')\n",
    "\n",
    "plt.ylim([1e-2,10e6])\n",
    "plt.xlabel(\"r/r_vir\",size=15)\n",
    "plt.ylabel(\"rho/rho_crit\",size=15)\n",
    "plt.legend()\n",
    "plt.savefig(\"E2K_fitted_gas_functions_ratios.png\")\n",
    "plt.show()\n",
    "\n"
   ]
  },
  {
   "cell_type": "markdown",
   "id": "e84acdf6-3c5e-40e4-aaec-efa59888a6bc",
   "metadata": {},
   "source": [
    "### Visualizing MW Baryon and DM Number Density Model\n"
   ]
  },
  {
   "cell_type": "code",
   "execution_count": null,
   "id": "008b7ea7-c129-49de-ba2c-c38d2f9fec2c",
   "metadata": {},
   "outputs": [],
   "source": [
    "SIZE = 100\n",
    "RESOLUTION = 1\n",
    "z = np.array([-0.3,-0.2,-0.1,0,0.1,0.2,0.3])\n",
    "x = np.arange(-SIZE, SIZE + 1, RESOLUTION)  # len = 11\n",
    "y = np.arange(-SIZE, SIZE + 1, RESOLUTION)  # len = 7\n",
    "n = np.zeros([len(x), len(y)])\n",
    "c = np.meshgrid(x,y)\n",
    "R = np.sqrt(c[0]**2 + c[1]**2)\n",
    "\n",
    "n = n_halo(R,np.zeros([len(x),len(y)])).value  #+ n_bulge(R,np.zeros([len(x),len(y)])).value\n",
    "\n",
    "\n",
    "\n",
    "fig, axs = plt.subplots(nrows=len(z)+1, ncols=2, figsize = (20,10*len(z)), gridspec_kw={'height_ratios': [0.1] + [1]*len(z)}, dpi=100)\n",
    "\n",
    "# https://stackoverflow.com/questions/50420553/matplotlib-pyplot-pcolormesh-setting-range-of-colors\n",
    "norm_gas = matplotlib.colors.Normalize(vmin=0,  vmax= 1400000)\n",
    "norm_gas = matplotlib.colors.Normalize(vmin=0,  vmax= 190000)\n",
    "norm_dm = matplotlib.colors.Normalize(vmin=0, vmax=10**-17)\n",
    "norm_gas = matplotlib.colors.LogNorm()\n",
    "norm_dm=matplotlib.colors.LogNorm()\n",
    "m = 100000000000000\n",
    "M = 0\n",
    "for k in range(len(z)):\n",
    "    \n",
    "    gas = axs[k+1,0].pcolormesh(x, y, n_gas(R,np.ones([len(x),len(y)])*z[k]).cgs.value, cmap=plt.cm.magma, norm=norm_gas)\n",
    "    axs[k+1,0].set_title(\"z=\"+str(z[k])+\" [kpc]\", size=20)\n",
    "    axs[k+1,0].tick_params(axis='x', labelsize=14)\n",
    "    axs[k+1,0].tick_params(axis='y', labelsize=14)\n",
    "\n",
    "    halo = axs[k+1,1].pcolormesh(x, y, n_halo(R,np.ones([len(x),len(y)])*z[k]).cgs.value, cmap=plt.cm.magma, norm=norm_dm)\n",
    "    \n",
    "    axs[k+1,1].tick_params(axis='x', labelsize=14)\n",
    "    axs[k+1,1].tick_params(axis='y', labelsize=14)\n",
    "    \n",
    "    m = min(np.min(n_gas(R,np.ones([len(x),len(y)])*z[k]).value), m)\n",
    "    M = max(np.max(n_gas(R,np.ones([len(x),len(y)])*z[k]).value), M)\n",
    "    #print(\"--\", np.max(n_bulge(R,np.ones([len(x),len(y)])*z[k]).value), np.max(n_disk(R,np.ones([len(x),len(y)])*z[k]).value), np.max(n_halo(R,np.ones([len(x),len(y)])*z[k]).value))\n",
    "    \n",
    "print(m, M)\n",
    "plt.colorbar(gas, norm=norm_gas, cax=axs[0,0], orientation = 'horizontal')\n",
    "plt.colorbar(halo, norm=norm_dm, cax=axs[0,1], orientation = 'horizontal')\n",
    "axs[0,0].set_title(\"Gas\", size=25)\n",
    "axs[0,0].tick_params(axis='x', labelsize=14)\n",
    "axs[0,0].xaxis.get_offset_text().set_size(15)\n",
    "\n",
    "axs[0,1].set_title(\"Halo\", size=25)\n",
    "axs[0,1].tick_params(axis='x', labelsize=14)\n",
    "axs[0,1].xaxis.get_offset_text().set_size(15)\n",
    "\n",
    "axs[0,0].set_xlabel(\"Number Density [1/cm$^3$]\", size=16)\n",
    "axs[1,0].set_xlabel(\"x [kpc]\", size=16)\n",
    "axs[1,0].set_ylabel(\"y [kpc]\", size=16)\n",
    "\n",
    "plt.savefig(\"output3.png\")\n",
    "\n",
    "plt.show()"
   ]
  },
  {
   "cell_type": "code",
   "execution_count": null,
   "id": "4e29e9cd-442b-466f-b009-b5e5a15bc86f",
   "metadata": {},
   "outputs": [],
   "source": []
  },
  {
   "cell_type": "markdown",
   "id": "7438d6d6-03bc-4c63-aad4-220d87db6ac3",
   "metadata": {},
   "source": [
    "## Investigating integration/summation methods"
   ]
  },
  {
   "cell_type": "code",
   "execution_count": null,
   "id": "9dd48989-1a50-49d5-a838-e6775a3e3841",
   "metadata": {},
   "outputs": [],
   "source": [
    "def test_function(x):\n",
    "    # print(\"ran\")\n",
    "    return a1_c / (1+(x/b1_c)**2)**c1_c + a2_c / (1+(x/b2_c)**2)**c2_c + a3_c / (1+(x/b3_c)**2)**c3_c\n",
    "\n",
    "def test_func2(x):\n",
    "    print(np.cos(x))\n",
    "    return np.cos(x)\n",
    "\n",
    "x = np.arange(0,25,25/(2**6+1))\n",
    "res = 20\n",
    "DX = np.pi/2/(2**res+1)\n",
    "x2 = np.arange(0,np.pi/2,DX)\n",
    "\n",
    "#sci.integrate.simpson(test_function(x))"
   ]
  },
  {
   "cell_type": "code",
   "execution_count": null,
   "id": "25674507-cc92-4136-978c-08ee59c563b2",
   "metadata": {},
   "outputs": [],
   "source": [
    "# t_i = time.time()\n",
    "# print(sci.integrate.romb(test_func2(x2), dx=DX), time.time()-t_i) # print(sci.integrate.romb(test_func2(x2))*DX, time.time()-t_i)\n",
    "# t_i = time.time()\n",
    "# print(sci.integrate.simpson(test_func2(x2), dx=DX), time.time()-t_i)\n",
    "# t_i = time.time()\n",
    "# # print(sum(test_func2(x2))*(np.pi/2 / (len(x2)+1)), time.time()-t_i)\n",
    "# t_i = time.time()\n",
    "# print(sci.integrate.romberg(test_func2,0,np.pi/2), time.time()-t_i)\n",
    "# t_i = time.time()\n",
    "# print(sci.integrate.quad(test_func2,0,np.pi/2)[0], time.time()-t_i)\n",
    "# t_i = time.time()\n",
    "# # print(sci.integrate.trapezoid(test_func2(x2), dx=DX), time.time()-t_i)"
   ]
  },
  {
   "cell_type": "code",
   "execution_count": null,
   "id": "9093b843-b43a-49a8-913a-89fc7ea714c6",
   "metadata": {},
   "outputs": [],
   "source": [
    "plt.plot(x,test_function(x))\n",
    "#plt.xscale(\"log\")\n",
    "plt.yscale(\"log\")"
   ]
  },
  {
   "cell_type": "code",
   "execution_count": null,
   "id": "61278d16-b4ce-4bdc-b529-8b2c3724f79c",
   "metadata": {},
   "outputs": [],
   "source": [
    "xmin = 0\n",
    "xmax = 25\n",
    "res = 2**20+1\n",
    "DX = (xmax-xmin)/res\n",
    "\n",
    "x = np.arange(xmin,xmax,DX)\n",
    "\n",
    "# Fixed sample integration methods:\n",
    "t_i = time.time()\n",
    "print(\"romb\", sci.integrate.romb(test_function(x), dx=DX), time.time()-t_i) # print(sci.integrate.romb(test_func2(x2))*DX, time.time()-t_i)\n",
    "t_i = time.time()\n",
    "print(\"simpson\", sci.integrate.simpson(test_function(x), dx=DX), time.time()-t_i)\n",
    "t_i = time.time()\n",
    "print(\"trapezoid\", sci.integrate.trapezoid(test_function(x), dx=DX), time.time()-t_i)\n",
    "t_i = time.time()\n",
    "print(\"summation\", sum(test_function(x))*DX, time.time()-t_i)\n",
    "\n",
    "print(\"\\n\")\n",
    "# Numerical integration methods:\n",
    "t_i = time.time()\n",
    "print(\"integral romberg\", sci.integrate.romberg(test_function,xmin,xmax), time.time()-t_i)\n",
    "t_i = time.time()\n",
    "print(\"integral quad\", sci.integrate.quad(test_function,xmin,xmax)[0], time.time()-t_i)"
   ]
  }
 ],
 "metadata": {
  "kernelspec": {
   "display_name": "Python 3 (ipykernel)",
   "language": "python",
   "name": "python3"
  },
  "language_info": {
   "codemirror_mode": {
    "name": "ipython",
    "version": 3
   },
   "file_extension": ".py",
   "mimetype": "text/x-python",
   "name": "python",
   "nbconvert_exporter": "python",
   "pygments_lexer": "ipython3",
   "version": "3.10.4"
  }
 },
 "nbformat": 4,
 "nbformat_minor": 5
}
