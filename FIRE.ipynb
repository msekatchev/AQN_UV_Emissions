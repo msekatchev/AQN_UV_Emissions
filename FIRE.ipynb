{
 "cells": [
  {
   "cell_type": "code",
   "execution_count": 5,
   "id": "1e7a2b0a-943d-4c95-9706-bc3b221991ec",
   "metadata": {
    "execution": {
     "iopub.execute_input": "2023-01-13T02:00:17.814697Z",
     "iopub.status.busy": "2023-01-13T02:00:17.813944Z",
     "iopub.status.idle": "2023-01-13T02:00:18.540704Z",
     "shell.execute_reply": "2023-01-13T02:00:18.539743Z",
     "shell.execute_reply.started": "2023-01-13T02:00:17.814661Z"
    },
    "tags": []
   },
   "outputs": [
    {
     "name": "stdout",
     "output_type": "stream",
     "text": [
      "FIRE/m12i/m12i_res7100/initial_condition/ic_agora_m12i.conf\n"
     ]
    }
   ],
   "source": [
    "%ls FIRE/m12i/m12i_res7100/output/snapdir_120/snapshot_120.3.hdf5"
   ]
  },
  {
   "cell_type": "code",
   "execution_count": 15,
   "id": "e36c1892-2570-4aef-b94a-b88eff15e2d6",
   "metadata": {
    "execution": {
     "iopub.execute_input": "2023-01-13T02:04:57.361442Z",
     "iopub.status.busy": "2023-01-13T02:04:57.360824Z",
     "iopub.status.idle": "2023-01-13T02:04:57.513166Z",
     "shell.execute_reply": "2023-01-13T02:04:57.512268Z",
     "shell.execute_reply.started": "2023-01-13T02:04:57.361409Z"
    },
    "tags": []
   },
   "outputs": [
    {
     "ename": "AttributeError",
     "evalue": "'Dataset' object has no attribute 'values'",
     "output_type": "error",
     "traceback": [
      "\u001b[0;31m---------------------------------------------------------------------------\u001b[0m",
      "\u001b[0;31mAttributeError\u001b[0m                            Traceback (most recent call last)",
      "Cell \u001b[0;32mIn [15], line 7\u001b[0m\n\u001b[1;32m      5\u001b[0m \u001b[38;5;28;01mwith\u001b[39;00m h5py\u001b[38;5;241m.\u001b[39mFile(filename, \u001b[38;5;124m\"\u001b[39m\u001b[38;5;124mr\u001b[39m\u001b[38;5;124m\"\u001b[39m) \u001b[38;5;28;01mas\u001b[39;00m f:\n\u001b[1;32m      6\u001b[0m     data \u001b[38;5;241m=\u001b[39m f[\u001b[38;5;124m\"\u001b[39m\u001b[38;5;124mPartType0\u001b[39m\u001b[38;5;124m\"\u001b[39m]\n\u001b[0;32m----> 7\u001b[0m     \u001b[38;5;28mprint\u001b[39m(\u001b[43mdata\u001b[49m\u001b[43m[\u001b[49m\u001b[38;5;124;43m\"\u001b[39;49m\u001b[38;5;124;43mDensity\u001b[39;49m\u001b[38;5;124;43m\"\u001b[39;49m\u001b[43m]\u001b[49m\u001b[38;5;241;43m.\u001b[39;49m\u001b[43mvalues\u001b[49m())\n",
      "\u001b[0;31mAttributeError\u001b[0m: 'Dataset' object has no attribute 'values'"
     ]
    }
   ],
   "source": [
    "import h5py\n",
    "\n",
    "filename = \"FIRE/m12i/m12i_res7100/output/snapdir_120/snapshot_120.3.hdf5\"\n",
    "\n",
    "with h5py.File(filename, \"r\") as f:\n",
    "    data = f[\"PartType0\"]\n",
    "    print(data[\"Density\"].values())"
   ]
  },
  {
   "cell_type": "code",
   "execution_count": 8,
   "id": "d8fff6bd-9d68-4dcf-a9e3-a1c5bec4c141",
   "metadata": {
    "execution": {
     "iopub.execute_input": "2023-01-13T02:03:47.896240Z",
     "iopub.status.busy": "2023-01-13T02:03:47.895805Z",
     "iopub.status.idle": "2023-01-13T02:03:47.921352Z",
     "shell.execute_reply": "2023-01-13T02:03:47.920190Z",
     "shell.execute_reply.started": "2023-01-13T02:03:47.896201Z"
    },
    "tags": []
   },
   "outputs": [
    {
     "name": "stdout",
     "output_type": "stream",
     "text": [
      "Groups and datasets in the file:\n",
      "Header\n",
      "PartType0\n",
      "PartType1\n",
      "PartType2\n",
      "PartType4\n"
     ]
    }
   ],
   "source": [
    "import h5py\n",
    "\n",
    "filename = \"FIRE/m12i/m12i_res7100/output/snapdir_120/snapshot_120.3.hdf5\"\n",
    "\n",
    "with h5py.File(filename, \"r\") as f:\n",
    "    print(\"Groups and datasets in the file:\")\n",
    "    for name in f.keys():\n",
    "        print(name)\n"
   ]
  },
  {
   "cell_type": "code",
   "execution_count": 16,
   "id": "055e511b-a7aa-47a7-bee0-e0729f8cf2c0",
   "metadata": {
    "execution": {
     "iopub.execute_input": "2023-01-13T02:05:18.857165Z",
     "iopub.status.busy": "2023-01-13T02:05:18.856776Z",
     "iopub.status.idle": "2023-01-13T02:05:31.662247Z",
     "shell.execute_reply": "2023-01-13T02:05:31.660933Z",
     "shell.execute_reply.started": "2023-01-13T02:05:18.857138Z"
    },
    "tags": []
   },
   "outputs": [
    {
     "name": "stdout",
     "output_type": "stream",
     "text": [
      "Groups and datasets in the file:\n",
      "Header\n",
      "PartType0\n",
      "PartType0/Coordinates\n",
      "PartType0/Density\n",
      "PartType0/ElectronAbundance\n",
      "PartType0/InternalEnergy\n",
      "PartType0/Masses\n",
      "PartType0/Metallicity\n",
      "PartType0/NeutralHydrogenAbundance\n",
      "PartType0/ParticleChildIDsNumber\n",
      "PartType0/ParticleIDGenerationNumber\n",
      "PartType0/ParticleIDs\n",
      "PartType0/Potential\n",
      "PartType0/SmoothingLength\n",
      "PartType0/StarFormationRate\n",
      "PartType0/Velocities\n",
      "PartType1\n",
      "PartType1/Coordinates\n",
      "PartType1/Masses\n",
      "PartType1/ParticleChildIDsNumber\n",
      "PartType1/ParticleIDGenerationNumber\n",
      "PartType1/ParticleIDs\n",
      "PartType1/Potential\n",
      "PartType1/Velocities\n",
      "PartType2\n",
      "PartType2/Coordinates\n",
      "PartType2/Masses\n",
      "PartType2/ParticleChildIDsNumber\n",
      "PartType2/ParticleIDGenerationNumber\n",
      "PartType2/ParticleIDs\n",
      "PartType2/Potential\n",
      "PartType2/Velocities\n",
      "PartType4\n",
      "PartType4/Coordinates\n",
      "PartType4/Masses\n",
      "PartType4/Metallicity\n",
      "PartType4/ParticleChildIDsNumber\n",
      "PartType4/ParticleIDGenerationNumber\n",
      "PartType4/ParticleIDs\n",
      "PartType4/Potential\n",
      "PartType4/StellarFormationTime\n",
      "PartType4/Velocities\n"
     ]
    }
   ],
   "source": [
    "with h5py.File(filename, \"r\") as f:\n",
    "    print(\"Groups and datasets in the file:\")\n",
    "    f.visit(lambda name: print(name))\n"
   ]
  }
 ],
 "metadata": {
  "kernelspec": {
   "display_name": "Python 3 (ipykernel)",
   "language": "python",
   "name": "python3"
  },
  "language_info": {
   "codemirror_mode": {
    "name": "ipython",
    "version": 3
   },
   "file_extension": ".py",
   "mimetype": "text/x-python",
   "name": "python",
   "nbconvert_exporter": "python",
   "pygments_lexer": "ipython3",
   "version": "3.10.6"
  }
 },
 "nbformat": 4,
 "nbformat_minor": 5
}
